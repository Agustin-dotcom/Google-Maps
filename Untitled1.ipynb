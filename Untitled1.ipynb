{
 "cells": [
  {
   "cell_type": "code",
   "execution_count": 1,
   "id": "4eb6617b-09f0-44ba-a283-aede592cef4a",
   "metadata": {},
   "outputs": [],
   "source": [
    "dicti = {\"A\":1,\"B\":2}"
   ]
  },
  {
   "cell_type": "code",
   "execution_count": 2,
   "id": "da3cd94a-2160-4a6b-8db4-a4ac600b7d3b",
   "metadata": {},
   "outputs": [
    {
     "data": {
      "text/plain": [
       "1"
      ]
     },
     "execution_count": 2,
     "metadata": {},
     "output_type": "execute_result"
    }
   ],
   "source": [
    "dicti.get(\"A\")"
   ]
  },
  {
   "cell_type": "code",
   "execution_count": 3,
   "id": "9683401e-61e1-42ab-a610-0f4790fd7b82",
   "metadata": {},
   "outputs": [],
   "source": [
    "listOf = [{\"A\":1,\"B\":2},{\"C\":3,\"D\":4}]"
   ]
  },
  {
   "cell_type": "code",
   "execution_count": 4,
   "id": "3f39c9b1-fe51-43f7-ac91-982e9d674451",
   "metadata": {},
   "outputs": [
    {
     "ename": "AttributeError",
     "evalue": "'list' object has no attribute 'get'",
     "output_type": "error",
     "traceback": [
      "\u001b[1;31m---------------------------------------------------------------------------\u001b[0m",
      "\u001b[1;31mAttributeError\u001b[0m                            Traceback (most recent call last)",
      "Cell \u001b[1;32mIn[4], line 1\u001b[0m\n\u001b[1;32m----> 1\u001b[0m \u001b[43mlistOf\u001b[49m\u001b[38;5;241;43m.\u001b[39;49m\u001b[43mget\u001b[49m(\u001b[38;5;124m\"\u001b[39m\u001b[38;5;124mC\u001b[39m\u001b[38;5;124m\"\u001b[39m)\n",
      "\u001b[1;31mAttributeError\u001b[0m: 'list' object has no attribute 'get'"
     ]
    }
   ],
   "source": [
    "listOf.get(\"C\")"
   ]
  },
  {
   "cell_type": "code",
   "execution_count": 5,
   "id": "158d26bb-5ae5-4676-b987-3295365eb5ee",
   "metadata": {},
   "outputs": [
    {
     "ename": "NameError",
     "evalue": "name 'attributes' is not defined",
     "output_type": "error",
     "traceback": [
      "\u001b[1;31m---------------------------------------------------------------------------\u001b[0m",
      "\u001b[1;31mNameError\u001b[0m                                 Traceback (most recent call last)",
      "Cell \u001b[1;32mIn[5], line 1\u001b[0m\n\u001b[1;32m----> 1\u001b[0m \u001b[43mattributes\u001b[49m(listOf)\n",
      "\u001b[1;31mNameError\u001b[0m: name 'attributes' is not defined"
     ]
    }
   ],
   "source": [
    "attributes(listOf)"
   ]
  },
  {
   "cell_type": "code",
   "execution_count": 7,
   "id": "0dd24bfd-f0f2-431a-89a8-26cbba77e304",
   "metadata": {},
   "outputs": [],
   "source": [
    "listOf.extend([])"
   ]
  },
  {
   "cell_type": "code",
   "execution_count": 14,
   "id": "e027e8b5-0fc0-46bb-92da-85c87d3fa4bf",
   "metadata": {},
   "outputs": [
    {
     "data": {
      "text/plain": [
       "[{'A': 1, 'B': 2}, {'C': 3, 'D': 4}]"
      ]
     },
     "execution_count": 14,
     "metadata": {},
     "output_type": "execute_result"
    }
   ],
   "source": [
    "listOf\n",
    "listO = []\n",
    "listO.extend(listOf)\n",
    "listO\n",
    "listOf"
   ]
  },
  {
   "cell_type": "code",
   "execution_count": null,
   "id": "b93ad6b9-7ee6-41ea-9821-e1b5ddfafaa8",
   "metadata": {},
   "outputs": [],
   "source": []
  }
 ],
 "metadata": {
  "kernelspec": {
   "display_name": "Python 3 (ipykernel)",
   "language": "python",
   "name": "python3"
  },
  "language_info": {
   "codemirror_mode": {
    "name": "ipython",
    "version": 3
   },
   "file_extension": ".py",
   "mimetype": "text/x-python",
   "name": "python",
   "nbconvert_exporter": "python",
   "pygments_lexer": "ipython3",
   "version": "3.12.6"
  }
 },
 "nbformat": 4,
 "nbformat_minor": 5
}
