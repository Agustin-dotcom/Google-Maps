{
 "cells": [
  {
   "cell_type": "code",
   "execution_count": 3,
   "id": "5f088459-403a-401d-bcab-96d5556806b9",
   "metadata": {},
   "outputs": [],
   "source": [
    "import json\n",
    "file_name = \"paseo_simón_abril_albacete_250_1.json\"\n",
    "with open(file_name,'r') as file:\n",
    "            dictionary = json.load(file)\n",
    "# Conversión de velocidad de km/h a m/s y cálculo del coste\n",
    "# Convert the list of intersections to a dictionary of dictionaries\n",
    "# self.dictionary['maxSpeedOfAllSpeeds'] = float('-inf') # definiendo la maxima velocida a menos infinito\n",
    "# self.dictionary['mostRepeatedSpeed'] = []\n",
    "dictionary['intersections'] = {inter['identifier']: inter for inter in dictionary.get('intersections')}"
   ]
  },
  {
   "cell_type": "code",
   "execution_count": 4,
   "id": "d23c3f74-1ab2-420d-93ba-daf2e1f1875f",
   "metadata": {},
   "outputs": [
    {
     "data": {
      "text/plain": [
       "{434014599: {'identifier': 434014599,\n",
       "  'longitude': -1.858993,\n",
       "  'latitude': 38.9902264},\n",
       " 442909905: {'identifier': 442909905,\n",
       "  'longitude': -1.8565634,\n",
       "  'latitude': 38.9903212},\n",
       " 443511897: {'identifier': 443511897,\n",
       "  'longitude': -1.8586486,\n",
       "  'latitude': 38.9910279},\n",
       " 499274621: {'identifier': 499274621,\n",
       "  'longitude': -1.856762,\n",
       "  'latitude': 38.9898668},\n",
       " 621983933: {'identifier': 621983933,\n",
       "  'longitude': -1.858676,\n",
       "  'latitude': 38.9876469},\n",
       " 672072228: {'identifier': 672072228,\n",
       "  'longitude': -1.8559743,\n",
       "  'latitude': 38.9915369},\n",
       " 950684162: {'identifier': 950684162,\n",
       "  'longitude': -1.8551602,\n",
       "  'latitude': 38.9912964},\n",
       " 950684166: {'identifier': 950684166,\n",
       "  'longitude': -1.8560355,\n",
       "  'latitude': 38.9894665},\n",
       " 950688700: {'identifier': 950688700,\n",
       "  'longitude': -1.8557015,\n",
       "  'latitude': 38.9901713},\n",
       " 958251097: {'identifier': 958251097,\n",
       "  'longitude': -1.855249,\n",
       "  'latitude': 38.9883646},\n",
       " 958273823: {'identifier': 958273823,\n",
       "  'longitude': -1.8546023,\n",
       "  'latitude': 38.9898569},\n",
       " 958273825: {'identifier': 958273825,\n",
       "  'longitude': -1.8546065,\n",
       "  'latitude': 38.9886691},\n",
       " 958273826: {'identifier': 958273826,\n",
       "  'longitude': -1.8544295,\n",
       "  'latitude': 38.9910926},\n",
       " 1255547636: {'identifier': 1255547636,\n",
       "  'longitude': -1.858143,\n",
       "  'latitude': 38.9899287},\n",
       " 1255547639: {'identifier': 1255547639,\n",
       "  'longitude': -1.8569159,\n",
       "  'latitude': 38.9895104},\n",
       " 1256026659: {'identifier': 1256026659,\n",
       "  'longitude': -1.8587738,\n",
       "  'latitude': 38.9887202},\n",
       " 1256026663: {'identifier': 1256026663,\n",
       "  'longitude': -1.8592362,\n",
       "  'latitude': 38.9878173},\n",
       " 1256026682: {'identifier': 1256026682,\n",
       "  'longitude': -1.8571411,\n",
       "  'latitude': 38.9918736},\n",
       " 1322977378: {'identifier': 1322977378,\n",
       "  'longitude': -1.8593983,\n",
       "  'latitude': 38.9913849},\n",
       " 1526053351: {'identifier': 1526053351,\n",
       "  'longitude': -1.8543004,\n",
       "  'latitude': 38.9882456},\n",
       " 1528823332: {'identifier': 1528823332,\n",
       "  'longitude': -1.8589572,\n",
       "  'latitude': 38.9911615},\n",
       " 1529477429: {'identifier': 1529477429,\n",
       "  'longitude': -1.857342,\n",
       "  'latitude': 38.9915053},\n",
       " 1529477449: {'identifier': 1529477449,\n",
       "  'longitude': -1.8582255,\n",
       "  'latitude': 38.9917979},\n",
       " 1531659796: {'identifier': 1531659796,\n",
       "  'longitude': -1.8580573,\n",
       "  'latitude': 38.9883402},\n",
       " 1533751788: {'identifier': 1533751788,\n",
       "  'longitude': -1.8575194,\n",
       "  'latitude': 38.9911441},\n",
       " 1533751804: {'identifier': 1533751804,\n",
       "  'longitude': -1.8584239,\n",
       "  'latitude': 38.9914336},\n",
       " 1663102538: {'identifier': 1663102538,\n",
       "  'longitude': -1.8577208,\n",
       "  'latitude': 38.9907656},\n",
       " 1835328235: {'identifier': 1835328235,\n",
       "  'longitude': -1.8537324,\n",
       "  'latitude': 38.9882362},\n",
       " 1835328238: {'identifier': 1835328238,\n",
       "  'longitude': -1.8538193,\n",
       "  'latitude': 38.9889859},\n",
       " 2855727902: {'identifier': 2855727902,\n",
       "  'longitude': -1.8547579,\n",
       "  'latitude': 38.9886047}}"
      ]
     },
     "execution_count": 4,
     "metadata": {},
     "output_type": "execute_result"
    }
   ],
   "source": [
    "dictionary.get('intersections')"
   ]
  },
  {
   "cell_type": "code",
   "execution_count": 5,
   "id": "7a82bad6-1faa-408c-9301-4a0f6b04579d",
   "metadata": {},
   "outputs": [],
   "source": [
    "lista = [4,2,1,3]\n",
    "lista.sort()"
   ]
  },
  {
   "cell_type": "code",
   "execution_count": 6,
   "id": "cdd7e2c2-ef07-4ed9-bace-65337b6d3208",
   "metadata": {},
   "outputs": [
    {
     "ename": "NameError",
     "evalue": "name 'sort' is not defined",
     "output_type": "error",
     "traceback": [
      "\u001b[1;31m---------------------------------------------------------------------------\u001b[0m",
      "\u001b[1;31mNameError\u001b[0m                                 Traceback (most recent call last)",
      "Cell \u001b[1;32mIn[6], line 1\u001b[0m\n\u001b[1;32m----> 1\u001b[0m \u001b[43msort\u001b[49m(lista)\n",
      "\u001b[1;31mNameError\u001b[0m: name 'sort' is not defined"
     ]
    }
   ],
   "source": [
    "sort(lista)"
   ]
  },
  {
   "cell_type": "code",
   "execution_count": 8,
   "id": "819998f1-1df9-4bb5-b105-336253bb0bfb",
   "metadata": {},
   "outputs": [
    {
     "data": {
      "text/plain": [
       "[1, 2, 3, 4]"
      ]
     },
     "execution_count": 8,
     "metadata": {},
     "output_type": "execute_result"
    }
   ],
   "source": [
    "lista.sort()\n",
    "sorted(lista)"
   ]
  },
  {
   "cell_type": "code",
   "execution_count": 18,
   "id": "aeaafe26-3778-4396-9854-0d1984e440b1",
   "metadata": {},
   "outputs": [],
   "source": [
    "mi_diccionario = [{\"id\":434371974,\"cost\":4.4},{\"id\":1972379585,\"cost\":3.3},{\"id\":1,\"cost\":1.1},{\"id\":2,\"cost\":2.2}]"
   ]
  },
  {
   "cell_type": "code",
   "execution_count": 19,
   "id": "6dda598e-fe74-4038-9de8-48e3f8f6d79d",
   "metadata": {},
   "outputs": [
    {
     "data": {
      "text/plain": [
       "[{'id': 1, 'cost': 1.1},\n",
       " {'id': 2, 'cost': 2.2},\n",
       " {'id': 434371974, 'cost': 4.4},\n",
       " {'id': 1972379585, 'cost': 3.3}]"
      ]
     },
     "execution_count": 19,
     "metadata": {},
     "output_type": "execute_result"
    }
   ],
   "source": [
    "sorted(mi_diccionario,key = lambda x : x['id'])"
   ]
  },
  {
   "cell_type": "code",
   "execution_count": 20,
   "id": "6cd8954b-7d21-4d1b-8a34-8ad5387ff916",
   "metadata": {},
   "outputs": [
    {
     "data": {
      "text/plain": [
       "True"
      ]
     },
     "execution_count": 20,
     "metadata": {},
     "output_type": "execute_result"
    }
   ],
   "source": [
    "434369348<1255547627"
   ]
  },
  {
   "cell_type": "code",
   "execution_count": 21,
   "id": "cfb075fa-ebbe-43a3-90e7-55312eabe51e",
   "metadata": {},
   "outputs": [],
   "source": [
    "lista = []"
   ]
  },
  {
   "cell_type": "code",
   "execution_count": 22,
   "id": "4ca71ce9-6242-4b63-8235-7ef05805c515",
   "metadata": {},
   "outputs": [],
   "source": [
    "from collections import deque\n",
    "lista = deque()"
   ]
  },
  {
   "cell_type": "code",
   "execution_count": 23,
   "id": "f7bc0642-51eb-4818-a32e-f82aa9cf1ffa",
   "metadata": {},
   "outputs": [],
   "source": [
    "lista.append(2)"
   ]
  },
  {
   "cell_type": "code",
   "execution_count": 24,
   "id": "71603cc3-2602-4504-892a-c43682f8b980",
   "metadata": {},
   "outputs": [
    {
     "data": {
      "text/plain": [
       "deque([2])"
      ]
     },
     "execution_count": 24,
     "metadata": {},
     "output_type": "execute_result"
    }
   ],
   "source": [
    "lista"
   ]
  },
  {
   "cell_type": "code",
   "execution_count": 25,
   "id": "b77b3ec3-5977-4d53-9bf1-ce4f27a403e7",
   "metadata": {},
   "outputs": [],
   "source": [
    "lista.append(3)"
   ]
  },
  {
   "cell_type": "code",
   "execution_count": 26,
   "id": "a6300444-cb2c-45b8-9e59-516bfb974881",
   "metadata": {},
   "outputs": [
    {
     "data": {
      "text/plain": [
       "deque([2, 3])"
      ]
     },
     "execution_count": 26,
     "metadata": {},
     "output_type": "execute_result"
    }
   ],
   "source": [
    "lista"
   ]
  },
  {
   "cell_type": "code",
   "execution_count": 27,
   "id": "f34de798-1007-42cd-a49d-f067c94ffe62",
   "metadata": {},
   "outputs": [
    {
     "data": {
      "text/plain": [
       "2"
      ]
     },
     "execution_count": 27,
     "metadata": {},
     "output_type": "execute_result"
    }
   ],
   "source": [
    "lista.popleft()"
   ]
  },
  {
   "cell_type": "code",
   "execution_count": 28,
   "id": "f81dc99b-fedc-44dc-848b-508c73edd5ce",
   "metadata": {},
   "outputs": [
    {
     "data": {
      "text/plain": [
       "deque([3])"
      ]
     },
     "execution_count": 28,
     "metadata": {},
     "output_type": "execute_result"
    }
   ],
   "source": [
    "lista"
   ]
  },
  {
   "cell_type": "code",
   "execution_count": 29,
   "id": "8cbb111b-5d3b-4b24-89a6-fd2c0dad7447",
   "metadata": {},
   "outputs": [
    {
     "name": "stdout",
     "output_type": "stream",
     "text": [
      "[1, 2]\n",
      "[1, 2]\n"
     ]
    }
   ],
   "source": [
    "class MiClase:\n",
    "    valores = []  # Variable de clase\n",
    "\n",
    "    def __init__(self, valor):\n",
    "        self.valores.append(valor)\n",
    "\n",
    "obj1 = MiClase(1)\n",
    "obj2 = MiClase(2)\n",
    "\n",
    "print(obj1.valores)  # [1, 2]\n",
    "print(obj2.valores)  # [1, 2]"
   ]
  }
 ],
 "metadata": {
  "kernelspec": {
   "display_name": "Python 3 (ipykernel)",
   "language": "python",
   "name": "python3"
  },
  "language_info": {
   "codemirror_mode": {
    "name": "ipython",
    "version": 3
   },
   "file_extension": ".py",
   "mimetype": "text/x-python",
   "name": "python",
   "nbconvert_exporter": "python",
   "pygments_lexer": "ipython3",
   "version": "3.12.6"
  }
 },
 "nbformat": 4,
 "nbformat_minor": 5
}
