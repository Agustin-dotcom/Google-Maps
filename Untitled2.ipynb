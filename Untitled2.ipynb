{
 "cells": [
  {
   "cell_type": "code",
   "execution_count": 10,
   "id": "b3ec8070-ae95-42fc-9e0c-76d763d5c5b4",
   "metadata": {},
   "outputs": [],
   "source": [
    "class Incremento:\n",
    "    def __init__(self,x):\n",
    "        self.x = x\n",
    "    def incremento(self,):\n",
    "        self.x += 1\n",
    "        return self.x+1"
   ]
  },
  {
   "cell_type": "code",
   "execution_count": 11,
   "id": "84e714e7-bcd8-4078-a241-97697ea8a472",
   "metadata": {},
   "outputs": [],
   "source": [
    "agus = Incremento(0)"
   ]
  },
  {
   "cell_type": "code",
   "execution_count": 12,
   "id": "ac3453c8-2c35-440f-a4cb-db684c00cbe1",
   "metadata": {},
   "outputs": [
    {
     "data": {
      "text/plain": [
       "0"
      ]
     },
     "execution_count": 12,
     "metadata": {},
     "output_type": "execute_result"
    }
   ],
   "source": [
    "agus.x"
   ]
  },
  {
   "cell_type": "code",
   "execution_count": 13,
   "id": "5c3ba294-f903-4b6a-b545-acbacf87ae70",
   "metadata": {},
   "outputs": [
    {
     "data": {
      "text/plain": [
       "2"
      ]
     },
     "execution_count": 13,
     "metadata": {},
     "output_type": "execute_result"
    }
   ],
   "source": [
    "agus.incremento()"
   ]
  },
  {
   "cell_type": "code",
   "execution_count": 14,
   "id": "1c6c008f-d37c-4077-907a-8f1b080ae752",
   "metadata": {},
   "outputs": [],
   "source": [
    "result = 2\n",
    "result = 4"
   ]
  },
  {
   "cell_type": "code",
   "execution_count": 15,
   "id": "fffd9021-8a06-4ac8-8cc7-e45d53e15165",
   "metadata": {},
   "outputs": [
    {
     "data": {
      "text/plain": [
       "4"
      ]
     },
     "execution_count": 15,
     "metadata": {},
     "output_type": "execute_result"
    }
   ],
   "source": [
    "result"
   ]
  }
 ],
 "metadata": {
  "kernelspec": {
   "display_name": "Python 3 (ipykernel)",
   "language": "python",
   "name": "python3"
  },
  "language_info": {
   "codemirror_mode": {
    "name": "ipython",
    "version": 3
   },
   "file_extension": ".py",
   "mimetype": "text/x-python",
   "name": "python",
   "nbconvert_exporter": "python",
   "pygments_lexer": "ipython3",
   "version": "3.12.6"
  }
 },
 "nbformat": 4,
 "nbformat_minor": 5
}
