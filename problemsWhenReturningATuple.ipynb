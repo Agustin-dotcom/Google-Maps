{
 "cells": [
  {
   "cell_type": "code",
   "execution_count": 3,
   "id": "fc49bc1a-45e6-423c-a1a0-234cfbdd39a1",
   "metadata": {},
   "outputs": [],
   "source": [
    "import heapq\n",
    "lista = []\n",
    "heapq.heappush(lista,(1,'1'))"
   ]
  },
  {
   "cell_type": "code",
   "execution_count": 4,
   "id": "0374bd62-a4a5-47b2-abec-282369b3ed7b",
   "metadata": {},
   "outputs": [
    {
     "data": {
      "text/plain": [
       "[(1, '1')]"
      ]
     },
     "execution_count": 4,
     "metadata": {},
     "output_type": "execute_result"
    }
   ],
   "source": [
    "lista"
   ]
  },
  {
   "cell_type": "code",
   "execution_count": 5,
   "id": "d9a89dbd-ecac-4ae7-9149-e579d313d19c",
   "metadata": {},
   "outputs": [],
   "source": [
    "heapq.heappush(lista,(2,'2'))"
   ]
  },
  {
   "cell_type": "code",
   "execution_count": 6,
   "id": "8a3703a2-276e-414a-9c6d-8157ddb67349",
   "metadata": {},
   "outputs": [
    {
     "data": {
      "text/plain": [
       "[(1, '1'), (2, '2')]"
      ]
     },
     "execution_count": 6,
     "metadata": {},
     "output_type": "execute_result"
    }
   ],
   "source": [
    "lista"
   ]
  },
  {
   "cell_type": "code",
   "execution_count": 9,
   "id": "4170de91-11ef-4f32-b96b-cae90c5c83ed",
   "metadata": {},
   "outputs": [
    {
     "data": {
      "text/plain": [
       "'2'"
      ]
     },
     "execution_count": 9,
     "metadata": {},
     "output_type": "execute_result"
    }
   ],
   "source": [
    "heapq.heappop(lista)[1]"
   ]
  }
 ],
 "metadata": {
  "kernelspec": {
   "display_name": "Python 3 (ipykernel)",
   "language": "python",
   "name": "python3"
  },
  "language_info": {
   "codemirror_mode": {
    "name": "ipython",
    "version": 3
   },
   "file_extension": ".py",
   "mimetype": "text/x-python",
   "name": "python",
   "nbconvert_exporter": "python",
   "pygments_lexer": "ipython3",
   "version": "3.12.6"
  }
 },
 "nbformat": 4,
 "nbformat_minor": 5
}
