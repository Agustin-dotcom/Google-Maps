{
 "cells": [
  {
   "cell_type": "code",
   "execution_count": null,
   "id": "0f54f616-e7ac-4bd4-a9d4-3297e95a8579",
   "metadata": {},
   "outputs": [],
   "source": [
    "#Quiero hacer lo de la heurística"
   ]
  },
  {
   "cell_type": "code",
   "execution_count": 1,
   "id": "27e6e477-44cb-4975-ba40-bfde9b99ae87",
   "metadata": {},
   "outputs": [
    {
     "data": {
      "text/plain": [
       "True"
      ]
     },
     "execution_count": 1,
     "metadata": {},
     "output_type": "execute_result"
    }
   ],
   "source": [
    "None is None"
   ]
  },
  {
   "cell_type": "code",
   "execution_count": null,
   "id": "1ebb4d9a-2a04-437e-8da0-254956ab86d5",
   "metadata": {},
   "outputs": [],
   "source": [
    "def computeGeoDistanceToTheGoal():\n",
    "    "
   ]
  },
  {
   "cell_type": "code",
   "execution_count": null,
   "id": "2936c8b3-a21d-4438-9481-1755ebac46af",
   "metadata": {},
   "outputs": [],
   "source": []
  }
 ],
 "metadata": {
  "kernelspec": {
   "display_name": "Python 3 (ipykernel)",
   "language": "python",
   "name": "python3"
  },
  "language_info": {
   "codemirror_mode": {
    "name": "ipython",
    "version": 3
   },
   "file_extension": ".py",
   "mimetype": "text/x-python",
   "name": "python",
   "nbconvert_exporter": "python",
   "pygments_lexer": "ipython3",
   "version": "3.12.6"
  }
 },
 "nbformat": 4,
 "nbformat_minor": 5
}
