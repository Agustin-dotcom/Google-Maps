{
 "cells": [
  {
   "cell_type": "code",
   "execution_count": null,
   "id": "0f54f616-e7ac-4bd4-a9d4-3297e95a8579",
   "metadata": {},
   "outputs": [],
   "source": [
    "#Quiero hacer lo de la heurística"
   ]
  },
  {
   "cell_type": "code",
   "execution_count": 1,
   "id": "27e6e477-44cb-4975-ba40-bfde9b99ae87",
   "metadata": {},
   "outputs": [
    {
     "data": {
      "text/plain": [
       "True"
      ]
     },
     "execution_count": 1,
     "metadata": {},
     "output_type": "execute_result"
    }
   ],
   "source": [
    "None is None"
   ]
  },
  {
   "cell_type": "code",
   "execution_count": null,
   "id": "1ebb4d9a-2a04-437e-8da0-254956ab86d5",
   "metadata": {},
   "outputs": [],
   "source": [
    "import math\n",
    "def computeGeoDistanceToTheGoal():\n",
    "    return math.sqrt((x2-x1)+(y2-y1))"
   ]
  },
  {
   "cell_type": "code",
   "execution_count": null,
   "id": "de51cc8f-f712-4b15-8662-ead15757fe80",
   "metadata": {},
   "outputs": [],
   "source": [
    "# María Julia mentioned something about constructors... I don't know where we can put all that"
   ]
  },
  {
   "cell_type": "code",
   "execution_count": null,
   "id": "2936c8b3-a21d-4438-9481-1755ebac46af",
   "metadata": {},
   "outputs": [],
   "source": [
    "# The priority queue is going to be a deque (list but from a library to work with python functions) of pairs such that we are going to have [(h,node)] "
   ]
  },
  {
   "cell_type": "code",
   "execution_count": null,
   "id": "139039e0-e08d-44ab-968b-e7e12c2fc488",
   "metadata": {},
   "outputs": [],
   "source": [
    "# The queue is going to be increasingly ordered taking into account h"
   ]
  },
  {
   "cell_type": "code",
   "execution_count": null,
   "id": "7ae39d57-fd08-47e1-acc9-ad0f14b4d5fa",
   "metadata": {},
   "outputs": [],
   "source": [
    "# Are we going to use the 'Explored' list (which in class María Julia said that is a HashSet)"
   ]
  },
  {
   "cell_type": "code",
   "execution_count": 2,
   "id": "97d89fdb-1b1c-4065-a2a7-478845bb67c1",
   "metadata": {},
   "outputs": [
    {
     "data": {
      "text/plain": [
       "True"
      ]
     },
     "execution_count": 2,
     "metadata": {},
     "output_type": "execute_result"
    }
   ],
   "source": [
    "1 in [0,1]"
   ]
  },
  {
   "cell_type": "code",
   "execution_count": 3,
   "id": "8bf34272-f319-48f8-a0df-e19602362546",
   "metadata": {},
   "outputs": [
    {
     "data": {
      "text/plain": [
       "True"
      ]
     },
     "execution_count": 3,
     "metadata": {},
     "output_type": "execute_result"
    }
   ],
   "source": [
    "1 in {0,1}"
   ]
  },
  {
   "cell_type": "code",
   "execution_count": null,
   "id": "0527255a-fcb4-45f7-894c-b8453ad2079f",
   "metadata": {},
   "outputs": [],
   "source": [
    "# She said it was a set but she was not sure if a hash set"
   ]
  },
  {
   "cell_type": "code",
   "execution_count": 4,
   "id": "69a2515d-3a99-450f-9964-aa0b903adeee",
   "metadata": {},
   "outputs": [
    {
     "data": {
      "text/plain": [
       "False"
      ]
     },
     "execution_count": 4,
     "metadata": {},
     "output_type": "execute_result"
    }
   ],
   "source": [
    "isinstance([1,\"2\",3],int)"
   ]
  },
  {
   "cell_type": "code",
   "execution_count": 5,
   "id": "cc49e6d7-115b-4fa9-a94a-c5371dece510",
   "metadata": {},
   "outputs": [
    {
     "data": {
      "text/plain": [
       "False"
      ]
     },
     "execution_count": 5,
     "metadata": {},
     "output_type": "execute_result"
    }
   ],
   "source": [
    "isinstance([1,None,3],int)"
   ]
  },
  {
   "cell_type": "code",
   "execution_count": 10,
   "id": "f5fa9890-9587-4cdc-9f7c-fff6321fb00e",
   "metadata": {},
   "outputs": [
    {
     "data": {
      "text/plain": [
       "True"
      ]
     },
     "execution_count": 10,
     "metadata": {},
     "output_type": "execute_result"
    }
   ],
   "source": [
    "isinstance(3,int)"
   ]
  },
  {
   "cell_type": "code",
   "execution_count": 14,
   "id": "9300cb1b-552b-4a99-9ec2-b516dfde105b",
   "metadata": {},
   "outputs": [
    {
     "ename": "TypeError",
     "evalue": "isinstance() arg 2 must be a type, a tuple of types, or a union",
     "output_type": "error",
     "traceback": [
      "\u001b[1;31m---------------------------------------------------------------------------\u001b[0m",
      "\u001b[1;31mTypeError\u001b[0m                                 Traceback (most recent call last)",
      "Cell \u001b[1;32mIn[14], line 1\u001b[0m\n\u001b[1;32m----> 1\u001b[0m \u001b[38;5;28;43misinstance\u001b[39;49m\u001b[43m(\u001b[49m\u001b[38;5;241;43m1\u001b[39;49m\u001b[43m,\u001b[49m\u001b[43m(\u001b[49m\u001b[38;5;28;43;01mNone\u001b[39;49;00m\u001b[43m,\u001b[49m\u001b[38;5;28;43mint\u001b[39;49m\u001b[43m)\u001b[49m\u001b[43m)\u001b[49m\n",
      "\u001b[1;31mTypeError\u001b[0m: isinstance() arg 2 must be a type, a tuple of types, or a union"
     ]
    }
   ],
   "source": [
    "isinstance(1,(None,int))"
   ]
  },
  {
   "cell_type": "code",
   "execution_count": 12,
   "id": "ec301c82-9830-4221-96fb-39af9294210a",
   "metadata": {},
   "outputs": [
    {
     "data": {
      "text/plain": [
       "True"
      ]
     },
     "execution_count": 12,
     "metadata": {},
     "output_type": "execute_result"
    }
   ],
   "source": [
    "isinstance(2,int)"
   ]
  },
  {
   "cell_type": "code",
   "execution_count": 17,
   "id": "c206e2f0-d7c1-4e50-99e0-e07cb4317715",
   "metadata": {},
   "outputs": [
    {
     "data": {
      "text/plain": [
       "True"
      ]
     },
     "execution_count": 17,
     "metadata": {},
     "output_type": "execute_result"
    }
   ],
   "source": [
    "isinstance(2,int) or isinstance(2,None)"
   ]
  },
  {
   "cell_type": "code",
   "execution_count": 19,
   "id": "135fd38a-56bb-4db4-8cbb-c5e90635d9a3",
   "metadata": {},
   "outputs": [
    {
     "ename": "TypeError",
     "evalue": "an integer is required",
     "output_type": "error",
     "traceback": [
      "\u001b[1;31m---------------------------------------------------------------------------\u001b[0m",
      "\u001b[1;31mTypeError\u001b[0m                                 Traceback (most recent call last)",
      "Cell \u001b[1;32mIn[19], line 2\u001b[0m\n\u001b[0;32m      1\u001b[0m \u001b[38;5;28;01mfrom\u001b[39;00m \u001b[38;5;21;01mcollections\u001b[39;00m \u001b[38;5;28;01mimport\u001b[39;00m deque\n\u001b[1;32m----> 2\u001b[0m \u001b[43mdeque\u001b[49m\u001b[43m(\u001b[49m\u001b[43m(\u001b[49m\u001b[38;5;241;43m2\u001b[39;49m\u001b[43m,\u001b[49m\u001b[38;5;241;43m1\u001b[39;49m\u001b[43m)\u001b[49m\u001b[43m,\u001b[49m\u001b[43m(\u001b[49m\u001b[38;5;241;43m3\u001b[39;49m\u001b[43m,\u001b[49m\u001b[38;5;241;43m2\u001b[39;49m\u001b[43m)\u001b[49m\u001b[43m)\u001b[49m\n",
      "\u001b[1;31mTypeError\u001b[0m: an integer is required"
     ]
    }
   ],
   "source": [
    "from collections import deque\n",
    "deque((2,1),(3,2))"
   ]
  },
  {
   "cell_type": "code",
   "execution_count": 20,
   "id": "a28f2ff5-8bb5-4c81-b799-1982ac19cb00",
   "metadata": {},
   "outputs": [
    {
     "data": {
      "text/plain": [
       "[(2, 1), (3, 2)]"
      ]
     },
     "execution_count": 20,
     "metadata": {},
     "output_type": "execute_result"
    }
   ],
   "source": [
    "[(2,1),(3,2)]"
   ]
  },
  {
   "cell_type": "code",
   "execution_count": 21,
   "id": "aa675449-fd5b-4a3c-91cc-39c05532db0c",
   "metadata": {},
   "outputs": [
    {
     "data": {
      "text/plain": [
       "{(2, 1), (3, 2)}"
      ]
     },
     "execution_count": 21,
     "metadata": {},
     "output_type": "execute_result"
    }
   ],
   "source": [
    "{(2,1),(3,2)}"
   ]
  },
  {
   "cell_type": "code",
   "execution_count": 22,
   "id": "a153f22c-c590-4d09-8fda-ec8d5c2d2b0a",
   "metadata": {},
   "outputs": [],
   "source": [
    "import heapq\n",
    "priorityQueue = []\n",
    "heapq.heappush(priorityQueue,(2,'Node1'))\n",
    "heapq.heappush(priorityQueue,(1,'Node2'))\n",
    "heapq.heappush(priorityQueue,(4,'Node3'))"
   ]
  },
  {
   "cell_type": "code",
   "execution_count": 23,
   "id": "5f457398-ce8a-4bce-b2a0-90140a99e753",
   "metadata": {},
   "outputs": [
    {
     "data": {
      "text/plain": [
       "(1, 'Node2')"
      ]
     },
     "execution_count": 23,
     "metadata": {},
     "output_type": "execute_result"
    }
   ],
   "source": [
    "heapq.heappop(priorityQueue)"
   ]
  }
 ],
 "metadata": {
  "kernelspec": {
   "display_name": "Python 3 (ipykernel)",
   "language": "python",
   "name": "python3"
  },
  "language_info": {
   "codemirror_mode": {
    "name": "ipython",
    "version": 3
   },
   "file_extension": ".py",
   "mimetype": "text/x-python",
   "name": "python",
   "nbconvert_exporter": "python",
   "pygments_lexer": "ipython3",
   "version": "3.12.6"
  }
 },
 "nbformat": 4,
 "nbformat_minor": 5
}
