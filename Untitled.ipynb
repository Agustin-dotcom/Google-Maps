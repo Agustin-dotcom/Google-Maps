{
 "cells": [
  {
   "cell_type": "code",
   "execution_count": 12,
   "id": "fc6dea55-fc14-4b86-8710-bbd37ca42314",
   "metadata": {},
   "outputs": [],
   "source": [
    "class Agus:\n",
    "    def __init__(self,age,height):\n",
    "        self.age = age\n",
    "        self.height = height\n",
    "    def __eq__(self,obj):\n",
    "        return self.age == obj.age and self.height == obj.height \n",
    "    def __hash__(self):\n",
    "        return hash((self.age,self.height))"
   ]
  },
  {
   "cell_type": "code",
   "execution_count": 13,
   "id": "172c503a-ab36-44e0-85de-66fa2a2bd374",
   "metadata": {},
   "outputs": [],
   "source": [
    "agus = Agus(20,183)"
   ]
  },
  {
   "cell_type": "code",
   "execution_count": 14,
   "id": "2085daef-3490-48d2-8b7d-96fbd9d45cce",
   "metadata": {},
   "outputs": [
    {
     "data": {
      "text/plain": [
       "True"
      ]
     },
     "execution_count": 14,
     "metadata": {},
     "output_type": "execute_result"
    }
   ],
   "source": [
    "agus.__eq__(agus)\n"
   ]
  },
  {
   "cell_type": "code",
   "execution_count": 17,
   "id": "bf8d4303-8665-486b-ae88-829d697f14f0",
   "metadata": {},
   "outputs": [
    {
     "data": {
      "text/plain": [
       "9197643550679615829"
      ]
     },
     "execution_count": 17,
     "metadata": {},
     "output_type": "execute_result"
    }
   ],
   "source": [
    "agus.__hash__()"
   ]
  },
  {
   "cell_type": "code",
   "execution_count": 18,
   "id": "b9b02cc7-a5c5-426c-8c63-550f91a4dd10",
   "metadata": {},
   "outputs": [],
   "source": [
    "patrik = Agus(20,173)"
   ]
  },
  {
   "cell_type": "code",
   "execution_count": 19,
   "id": "1ae9e97c-fe62-4997-b371-cccd24100e33",
   "metadata": {},
   "outputs": [
    {
     "data": {
      "text/plain": [
       "-1479190104072853001"
      ]
     },
     "execution_count": 19,
     "metadata": {},
     "output_type": "execute_result"
    }
   ],
   "source": [
    "patrik.__hash__()"
   ]
  },
  {
   "cell_type": "code",
   "execution_count": 20,
   "id": "7c3a552a-5a53-471b-9497-26eb6fdb1898",
   "metadata": {},
   "outputs": [
    {
     "data": {
      "text/plain": [
       "False"
      ]
     },
     "execution_count": 20,
     "metadata": {},
     "output_type": "execute_result"
    }
   ],
   "source": [
    "patrik.__eq__(agus)"
   ]
  },
  {
   "cell_type": "code",
   "execution_count": 21,
   "id": "57295172-886b-4dc4-9d20-9662f6e27202",
   "metadata": {},
   "outputs": [],
   "source": [
    "patrik = Agus(20,183)"
   ]
  },
  {
   "cell_type": "code",
   "execution_count": 22,
   "id": "a8d6c41a-f480-447b-b630-2554cb505c20",
   "metadata": {},
   "outputs": [
    {
     "data": {
      "text/plain": [
       "True"
      ]
     },
     "execution_count": 22,
     "metadata": {},
     "output_type": "execute_result"
    }
   ],
   "source": [
    "patrik.__eq__(agus)"
   ]
  },
  {
   "cell_type": "code",
   "execution_count": null,
   "id": "0e8cca15-d0f1-491c-8d80-f9ce0d90bf83",
   "metadata": {},
   "outputs": [],
   "source": []
  },
  {
   "cell_type": "code",
   "execution_count": 23,
   "id": "8dff82ad-fd8c-4fad-b360-53b6edf54873",
   "metadata": {},
   "outputs": [
    {
     "data": {
      "text/plain": [
       "True"
      ]
     },
     "execution_count": 23,
     "metadata": {},
     "output_type": "execute_result"
    }
   ],
   "source": [
    "patrik.__hash__() == agus.__hash__()"
   ]
  },
  {
   "cell_type": "code",
   "execution_count": 24,
   "id": "1a676957-4ea0-4aa2-8360-0c2206f232cc",
   "metadata": {},
   "outputs": [
    {
     "data": {
      "text/plain": [
       "9197643550679615829"
      ]
     },
     "execution_count": 24,
     "metadata": {},
     "output_type": "execute_result"
    }
   ],
   "source": [
    "patrik.__hash__()"
   ]
  },
  {
   "cell_type": "code",
   "execution_count": 25,
   "id": "d3cca4c4-30ca-4650-9721-258f1d76ac69",
   "metadata": {},
   "outputs": [
    {
     "data": {
      "text/plain": [
       "9197643550679615829"
      ]
     },
     "execution_count": 25,
     "metadata": {},
     "output_type": "execute_result"
    }
   ],
   "source": [
    "agus.__hash__()"
   ]
  },
  {
   "cell_type": "code",
   "execution_count": null,
   "id": "72919015-8199-4e26-b2e7-6d56e6b1d1e7",
   "metadata": {},
   "outputs": [],
   "source": []
  },
  {
   "cell_type": "code",
   "execution_count": null,
   "id": "bd457d58-70c7-4e9e-8711-ba55151456af",
   "metadata": {},
   "outputs": [],
   "source": [
    "import time\n",
    "start = time.time()\n",
    "\n",
    "end = time.time()\n",
    "print(end - start)"
   ]
  },
  {
   "cell_type": "code",
   "execution_count": 26,
   "id": "fc72f12d-9c81-4934-bad4-81eaa79fdbab",
   "metadata": {},
   "outputs": [
    {
     "data": {
      "text/plain": [
       "False"
      ]
     },
     "execution_count": 26,
     "metadata": {},
     "output_type": "execute_result"
    }
   ],
   "source": [
    "{1,2} is {}"
   ]
  },
  {
   "cell_type": "code",
   "execution_count": null,
   "id": "f6cc709f-5a37-43f5-87ea-2e896f172035",
   "metadata": {},
   "outputs": [],
   "source": []
  }
 ],
 "metadata": {
  "kernelspec": {
   "display_name": "Python 3 (ipykernel)",
   "language": "python",
   "name": "python3"
  },
  "language_info": {
   "codemirror_mode": {
    "name": "ipython",
    "version": 3
   },
   "file_extension": ".py",
   "mimetype": "text/x-python",
   "name": "python",
   "nbconvert_exporter": "python",
   "pygments_lexer": "ipython3",
   "version": "3.12.6"
  }
 },
 "nbformat": 4,
 "nbformat_minor": 5
}
