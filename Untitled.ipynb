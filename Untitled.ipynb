{
 "cells": [
  {
   "cell_type": "code",
   "execution_count": 12,
   "id": "fc6dea55-fc14-4b86-8710-bbd37ca42314",
   "metadata": {},
   "outputs": [],
   "source": [
    "class Agus:\n",
    "    def __init__(self,age,height):\n",
    "        self.age = age\n",
    "        self.height = height\n",
    "    def __eq__(self,obj):\n",
    "        return self.age == obj.age and self.height == obj.height \n",
    "    def __hash__(self):\n",
    "        return hash((self.age,self.height))"
   ]
  },
  {
   "cell_type": "code",
   "execution_count": 13,
   "id": "172c503a-ab36-44e0-85de-66fa2a2bd374",
   "metadata": {},
   "outputs": [],
   "source": [
    "agus = Agus(20,183)"
   ]
  },
  {
   "cell_type": "code",
   "execution_count": 14,
   "id": "2085daef-3490-48d2-8b7d-96fbd9d45cce",
   "metadata": {},
   "outputs": [
    {
     "data": {
      "text/plain": [
       "True"
      ]
     },
     "execution_count": 14,
     "metadata": {},
     "output_type": "execute_result"
    }
   ],
   "source": [
    "agus.__eq__(agus)\n"
   ]
  },
  {
   "cell_type": "code",
   "execution_count": 17,
   "id": "bf8d4303-8665-486b-ae88-829d697f14f0",
   "metadata": {},
   "outputs": [
    {
     "data": {
      "text/plain": [
       "9197643550679615829"
      ]
     },
     "execution_count": 17,
     "metadata": {},
     "output_type": "execute_result"
    }
   ],
   "source": [
    "agus.__hash__()"
   ]
  },
  {
   "cell_type": "code",
   "execution_count": 18,
   "id": "b9b02cc7-a5c5-426c-8c63-550f91a4dd10",
   "metadata": {},
   "outputs": [],
   "source": [
    "patrik = Agus(20,173)"
   ]
  },
  {
   "cell_type": "code",
   "execution_count": 19,
   "id": "1ae9e97c-fe62-4997-b371-cccd24100e33",
   "metadata": {},
   "outputs": [
    {
     "data": {
      "text/plain": [
       "-1479190104072853001"
      ]
     },
     "execution_count": 19,
     "metadata": {},
     "output_type": "execute_result"
    }
   ],
   "source": [
    "patrik.__hash__()"
   ]
  },
  {
   "cell_type": "code",
   "execution_count": 20,
   "id": "7c3a552a-5a53-471b-9497-26eb6fdb1898",
   "metadata": {},
   "outputs": [
    {
     "data": {
      "text/plain": [
       "False"
      ]
     },
     "execution_count": 20,
     "metadata": {},
     "output_type": "execute_result"
    }
   ],
   "source": [
    "patrik.__eq__(agus)"
   ]
  },
  {
   "cell_type": "code",
   "execution_count": 21,
   "id": "57295172-886b-4dc4-9d20-9662f6e27202",
   "metadata": {},
   "outputs": [],
   "source": [
    "patrik = Agus(20,183)"
   ]
  },
  {
   "cell_type": "code",
   "execution_count": 22,
   "id": "a8d6c41a-f480-447b-b630-2554cb505c20",
   "metadata": {},
   "outputs": [
    {
     "data": {
      "text/plain": [
       "True"
      ]
     },
     "execution_count": 22,
     "metadata": {},
     "output_type": "execute_result"
    }
   ],
   "source": [
    "patrik.__eq__(agus)"
   ]
  },
  {
   "cell_type": "code",
   "execution_count": null,
   "id": "0e8cca15-d0f1-491c-8d80-f9ce0d90bf83",
   "metadata": {},
   "outputs": [],
   "source": []
  },
  {
   "cell_type": "code",
   "execution_count": 23,
   "id": "8dff82ad-fd8c-4fad-b360-53b6edf54873",
   "metadata": {},
   "outputs": [
    {
     "data": {
      "text/plain": [
       "True"
      ]
     },
     "execution_count": 23,
     "metadata": {},
     "output_type": "execute_result"
    }
   ],
   "source": [
    "patrik.__hash__() == agus.__hash__()"
   ]
  },
  {
   "cell_type": "code",
   "execution_count": 24,
   "id": "1a676957-4ea0-4aa2-8360-0c2206f232cc",
   "metadata": {},
   "outputs": [
    {
     "data": {
      "text/plain": [
       "9197643550679615829"
      ]
     },
     "execution_count": 24,
     "metadata": {},
     "output_type": "execute_result"
    }
   ],
   "source": [
    "patrik.__hash__()"
   ]
  },
  {
   "cell_type": "code",
   "execution_count": 25,
   "id": "d3cca4c4-30ca-4650-9721-258f1d76ac69",
   "metadata": {},
   "outputs": [
    {
     "data": {
      "text/plain": [
       "9197643550679615829"
      ]
     },
     "execution_count": 25,
     "metadata": {},
     "output_type": "execute_result"
    }
   ],
   "source": [
    "agus.__hash__()"
   ]
  },
  {
   "cell_type": "code",
   "execution_count": null,
   "id": "72919015-8199-4e26-b2e7-6d56e6b1d1e7",
   "metadata": {},
   "outputs": [],
   "source": []
  },
  {
   "cell_type": "code",
   "execution_count": null,
   "id": "bd457d58-70c7-4e9e-8711-ba55151456af",
   "metadata": {},
   "outputs": [],
   "source": [
    "import time\n",
    "start = time.time()\n",
    "\n",
    "end = time.time()\n",
    "print(end - start)"
   ]
  },
  {
   "cell_type": "code",
   "execution_count": 26,
   "id": "fc72f12d-9c81-4934-bad4-81eaa79fdbab",
   "metadata": {},
   "outputs": [
    {
     "data": {
      "text/plain": [
       "False"
      ]
     },
     "execution_count": 26,
     "metadata": {},
     "output_type": "execute_result"
    }
   ],
   "source": [
    "{1,2} is {}"
   ]
  },
  {
   "cell_type": "code",
   "execution_count": 30,
   "id": "f6cc709f-5a37-43f5-87ea-2e896f172035",
   "metadata": {},
   "outputs": [
    {
     "ename": "MemoryError",
     "evalue": "",
     "output_type": "error",
     "traceback": [
      "\u001b[1;31m---------------------------------------------------------------------------\u001b[0m",
      "\u001b[1;31mMemoryError\u001b[0m                               Traceback (most recent call last)",
      "Cell \u001b[1;32mIn[30], line 4\u001b[0m\n\u001b[0;32m      1\u001b[0m \u001b[38;5;28;01mimport\u001b[39;00m \u001b[38;5;21;01mtime\u001b[39;00m\n\u001b[0;32m      3\u001b[0m \u001b[38;5;66;03m# Generar una lista y un set con millones de elementos\u001b[39;00m\n\u001b[1;32m----> 4\u001b[0m lista \u001b[38;5;241m=\u001b[39m \u001b[38;5;28;43mlist\u001b[39;49m\u001b[43m(\u001b[49m\u001b[38;5;28;43mrange\u001b[39;49m\u001b[43m(\u001b[49m\u001b[38;5;241;43m10\u001b[39;49m\u001b[38;5;241;43m*\u001b[39;49m\u001b[38;5;241;43m*\u001b[39;49m\u001b[38;5;241;43m10\u001b[39;49m\u001b[43m)\u001b[49m\u001b[43m)\u001b[49m   \u001b[38;5;66;03m# Lista con 10 millones de elementos\u001b[39;00m\n\u001b[0;32m      5\u001b[0m conjunto \u001b[38;5;241m=\u001b[39m \u001b[38;5;28mset\u001b[39m(\u001b[38;5;28mrange\u001b[39m(\u001b[38;5;241m10\u001b[39m\u001b[38;5;241m*\u001b[39m\u001b[38;5;241m*\u001b[39m\u001b[38;5;241m10\u001b[39m)) \u001b[38;5;66;03m# Set con los mismos 10 millones de elementos\u001b[39;00m\n\u001b[0;32m      7\u001b[0m \u001b[38;5;66;03m# Definir un valor que sabemos que está presente en la estructura\u001b[39;00m\n",
      "\u001b[1;31mMemoryError\u001b[0m: "
     ]
    }
   ],
   "source": [
    "import time\n",
    "\n",
    "# Generar una lista y un set con millones de elementos\n",
    "lista = list(range(10**10))   # Lista con 10 millones de elementos\n",
    "conjunto = set(range(10**10)) # Set con los mismos 10 millones de elementos\n",
    "\n",
    "# Definir un valor que sabemos que está presente en la estructura\n",
    "valor_a_buscar = 9999999\n",
    "\n",
    "# Medir el tiempo de búsqueda en la lista\n",
    "inicio_lista = time.time()\n",
    "en_lista = valor_a_buscar in lista\n",
    "fin_lista = time.time()\n",
    "\n",
    "# Medir el tiempo de búsqueda en el set\n",
    "inicio_set = time.time()\n",
    "en_set = valor_a_buscar in conjunto\n",
    "fin_set = time.time()\n",
    "\n",
    "# Tiempo transcurrido para cada operación\n",
    "tiempo_lista = fin_lista - inicio_lista\n",
    "tiempo_set = fin_set - inicio_set\n",
    "\n",
    "print(f\"Tiempo de búsqueda en la lista: {tiempo_lista} segundos\")\n",
    "print(f\"Tiempo de búsqueda en el set: {tiempo_set} segundos\")"
   ]
  },
  {
   "cell_type": "code",
   "execution_count": null,
   "id": "0c653fa3-baa1-4e74-96f9-1f259fcb1f38",
   "metadata": {},
   "outputs": [],
   "source": [
    "el deque()"
   ]
  },
  {
   "cell_type": "code",
   "execution_count": 31,
   "id": "989eb040-3a2a-4134-966c-b9cd278d4fa7",
   "metadata": {},
   "outputs": [
    {
     "ename": "AttributeError",
     "evalue": "'set' object has no attribute 'append'",
     "output_type": "error",
     "traceback": [
      "\u001b[1;31m---------------------------------------------------------------------------\u001b[0m",
      "\u001b[1;31mAttributeError\u001b[0m                            Traceback (most recent call last)",
      "Cell \u001b[1;32mIn[31], line 1\u001b[0m\n\u001b[1;32m----> 1\u001b[0m \u001b[43m{\u001b[49m\u001b[38;5;241;43m1\u001b[39;49m\u001b[43m,\u001b[49m\u001b[38;5;241;43m2\u001b[39;49m\u001b[43m}\u001b[49m\u001b[38;5;241;43m.\u001b[39;49m\u001b[43mappend\u001b[49m(\u001b[38;5;241m3\u001b[39m)\n",
      "\u001b[1;31mAttributeError\u001b[0m: 'set' object has no attribute 'append'"
     ]
    }
   ],
   "source": [
    "{1,2}.append(3)"
   ]
  },
  {
   "cell_type": "code",
   "execution_count": 32,
   "id": "6d768927-961d-4de8-9897-1d6cd10956a3",
   "metadata": {},
   "outputs": [
    {
     "ename": "AttributeError",
     "evalue": "'dict' object has no attribute '__attributes__'",
     "output_type": "error",
     "traceback": [
      "\u001b[1;31m---------------------------------------------------------------------------\u001b[0m",
      "\u001b[1;31mAttributeError\u001b[0m                            Traceback (most recent call last)",
      "Cell \u001b[1;32mIn[32], line 1\u001b[0m\n\u001b[1;32m----> 1\u001b[0m \u001b[43m{\u001b[49m\u001b[43m}\u001b[49m\u001b[38;5;241;43m.\u001b[39;49m\u001b[43m__attributes__\u001b[49m\n",
      "\u001b[1;31mAttributeError\u001b[0m: 'dict' object has no attribute '__attributes__'"
     ]
    }
   ],
   "source": [
    "{}.__attributes__"
   ]
  },
  {
   "cell_type": "code",
   "execution_count": null,
   "id": "c404e778-0036-4f32-a2dd-2831f8f30854",
   "metadata": {},
   "outputs": [],
   "source": []
  }
 ],
 "metadata": {
  "kernelspec": {
   "display_name": "Python 3 (ipykernel)",
   "language": "python",
   "name": "python3"
  },
  "language_info": {
   "codemirror_mode": {
    "name": "ipython",
    "version": 3
   },
   "file_extension": ".py",
   "mimetype": "text/x-python",
   "name": "python",
   "nbconvert_exporter": "python",
   "pygments_lexer": "ipython3",
   "version": "3.12.6"
  }
 },
 "nbformat": 4,
 "nbformat_minor": 5
}
