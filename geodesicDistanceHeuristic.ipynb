{
 "cells": [
  {
   "cell_type": "code",
   "execution_count": 1,
   "id": "cbba30b7-6908-4982-b292-e5a1ce130e5d",
   "metadata": {},
   "outputs": [
    {
     "name": "stdout",
     "output_type": "stream",
     "text": [
      "La distancia entre Madrid y París es 1052.97 km.\n"
     ]
    }
   ],
   "source": [
    "from geographiclib.geodesic import Geodesic\n",
    "\n",
    "# Coordenadas de los dos puntos\n",
    "coord_1 = (40.416775, -3.703790)  # Madrid, España\n",
    "coord_2 = (48.856614, 2.3522219)  # París, Francia\n",
    "\n",
    "# Usar el elipsoide WGS84 para calcular la distancia\n",
    "geod = Geodesic.WGS84\n",
    "resultado = geod.Inverse(coord_1[0], coord_1[1], coord_2[0], coord_2[1])\n",
    "\n",
    "# Distancia en metros\n",
    "distancia = resultado['s12'] / 1000  # Convertir a kilómetros\n",
    "\n",
    "print(f\"La distancia entre Madrid y París es {distancia:.2f} km.\")"
   ]
  },
  {
   "cell_type": "code",
   "execution_count": null,
   "id": "c92d529f-47ec-4584-9b81-67376ca845c0",
   "metadata": {},
   "outputs": [],
   "source": []
  }
 ],
 "metadata": {
  "kernelspec": {
   "display_name": "Python 3 (ipykernel)",
   "language": "python",
   "name": "python3"
  },
  "language_info": {
   "codemirror_mode": {
    "name": "ipython",
    "version": 3
   },
   "file_extension": ".py",
   "mimetype": "text/x-python",
   "name": "python",
   "nbconvert_exporter": "python",
   "pygments_lexer": "ipython3",
   "version": "3.12.6"
  }
 },
 "nbformat": 4,
 "nbformat_minor": 5
}
