{
 "cells": [
  {
   "cell_type": "code",
   "execution_count": 24,
   "id": "9aae5fee-62ec-4f97-b152-56ef722c32b3",
   "metadata": {},
   "outputs": [],
   "source": [
    "import json\n",
    "\n",
    "file_name = 'paseo_simón_abril_albacete_250_1.json'\n",
    "with open(file_name,'r') as file:\n",
    "    dictionary = json.load(file)\n",
    "\n",
    "\n",
    "\n"
   ]
  },
  {
   "cell_type": "code",
   "execution_count": 25,
   "id": "657537f2-6621-4fd3-9d3c-9f5ce9dd086d",
   "metadata": {},
   "outputs": [],
   "source": [
    "# Conversión de velocidad de km/h a m/s y cálculo del coste\n",
    "dictionary['segments'] = {\n",
    "    d['origin']: {**d,  # Mantener los valores originales\n",
    "    'speed_mps': d['speed'] * (1000/3600),  # Convertir velocidad a m/s (1000m/3600s)\n",
    "    'cost': d['distance'] / (d['speed'] * (1000/3600))  # Calcular el coste como tiempo en segundos\n",
    "    }\n",
    "    for d in dictionary['segments']\n",
    "}"
   ]
  },
  {
   "cell_type": "code",
   "execution_count": 26,
   "id": "b26fc0a7-235d-41f4-ae08-a9619407b613",
   "metadata": {},
   "outputs": [],
   "source": [
    "# Convertir la lista de intersecciones a un diccionario donde la clave sea el 'identifier'\n",
    "dictionary['intersections'] = {intersection['identifier']: {**intersection, 'whereto': set()} for intersection in dictionary.get('intersections')}"
   ]
  },
  {
   "cell_type": "code",
   "execution_count": null,
   "id": "0b108ae7-c862-4456-bc8b-e715e4d2948c",
   "metadata": {},
   "outputs": [],
   "source": []
  },
  {
   "cell_type": "code",
   "execution_count": 27,
   "id": "5dc8c13b-fcae-4454-87f2-ff55de9aa9eb",
   "metadata": {},
   "outputs": [
    {
     "data": {
      "text/plain": [
       "{434014599: {'origin': 434014599,\n",
       "  'destination': 1255547636,\n",
       "  'distance': 80.577,\n",
       "  'speed': 30,\n",
       "  'speed_mps': 8.333333333333334,\n",
       "  'cost': 9.669239999999999},\n",
       " 442909905: {'origin': 442909905,\n",
       "  'destination': 672072228,\n",
       "  'distance': 144.466,\n",
       "  'speed': 30,\n",
       "  'speed_mps': 8.333333333333334,\n",
       "  'cost': 17.335919999999998},\n",
       " 443511897: {'origin': 443511897,\n",
       "  'destination': 1528823332,\n",
       "  'distance': 30.54,\n",
       "  'speed': 30,\n",
       "  'speed_mps': 8.333333333333334,\n",
       "  'cost': 3.6647999999999996},\n",
       " 499274621: {'origin': 499274621,\n",
       "  'destination': 442909905,\n",
       "  'distance': 53.36900000000001,\n",
       "  'speed': 30,\n",
       "  'speed_mps': 8.333333333333334,\n",
       "  'cost': 6.40428},\n",
       " 621983933: {'origin': 621983933,\n",
       "  'destination': 1531659796,\n",
       "  'distance': 93.84,\n",
       "  'speed': 40,\n",
       "  'speed_mps': 11.11111111111111,\n",
       "  'cost': 8.4456},\n",
       " 672072228: {'origin': 672072228,\n",
       "  'destination': 950684162,\n",
       "  'distance': 75.27000000000001,\n",
       "  'speed': 30,\n",
       "  'speed_mps': 8.333333333333334,\n",
       "  'cost': 9.0324},\n",
       " 950684162: {'origin': 950684162,\n",
       "  'destination': 950688700,\n",
       "  'distance': 133.566,\n",
       "  'speed': 30,\n",
       "  'speed_mps': 8.333333333333334,\n",
       "  'cost': 16.027919999999998},\n",
       " 950684166: {'origin': 950684166,\n",
       "  'destination': 958251097,\n",
       "  'distance': 140.119,\n",
       "  'speed': 30,\n",
       "  'speed_mps': 8.333333333333334,\n",
       "  'cost': 16.81428},\n",
       " 950688700: {'origin': 950688700,\n",
       "  'destination': 950684166,\n",
       "  'distance': 83.517,\n",
       "  'speed': 30,\n",
       "  'speed_mps': 8.333333333333334,\n",
       "  'cost': 10.022039999999999},\n",
       " 958251097: {'origin': 958251097,\n",
       "  'destination': 950684166,\n",
       "  'distance': 140.119,\n",
       "  'speed': 30,\n",
       "  'speed_mps': 8.333333333333334,\n",
       "  'cost': 16.81428},\n",
       " 958273823: {'origin': 958273823,\n",
       "  'destination': 958273826,\n",
       "  'distance': 138.214,\n",
       "  'speed': 30,\n",
       "  'speed_mps': 8.333333333333334,\n",
       "  'cost': 16.58568},\n",
       " 958273825: {'origin': 958273825,\n",
       "  'destination': 1835328238,\n",
       "  'distance': 76.615,\n",
       "  'speed': 30,\n",
       "  'speed_mps': 8.333333333333334,\n",
       "  'cost': 9.1938},\n",
       " 958273826: {'origin': 958273826,\n",
       "  'destination': 950684162,\n",
       "  'distance': 67.262,\n",
       "  'speed': 30,\n",
       "  'speed_mps': 8.333333333333334,\n",
       "  'cost': 8.071439999999999},\n",
       " 1255547636: {'origin': 1255547636,\n",
       "  'destination': 1256026659,\n",
       "  'distance': 145.018,\n",
       "  'speed': 30,\n",
       "  'speed_mps': 8.333333333333334,\n",
       "  'cost': 17.40216},\n",
       " 1255547639: {'origin': 1255547639,\n",
       "  'destination': 499274621,\n",
       "  'distance': 41.803,\n",
       "  'speed': 30,\n",
       "  'speed_mps': 8.333333333333334,\n",
       "  'cost': 5.01636},\n",
       " 1256026659: {'origin': 1256026659,\n",
       "  'destination': 1256026663,\n",
       "  'distance': 108.05900000000001,\n",
       "  'speed': 30,\n",
       "  'speed_mps': 8.333333333333334,\n",
       "  'cost': 12.967080000000001},\n",
       " 1256026682: {'origin': 1256026682,\n",
       "  'destination': 672072228,\n",
       "  'distance': 107.566,\n",
       "  'speed': 30,\n",
       "  'speed_mps': 8.333333333333334,\n",
       "  'cost': 12.907919999999999},\n",
       " 1526053351: {'origin': 1526053351,\n",
       "  'destination': 958273825,\n",
       "  'distance': 54.014,\n",
       "  'speed': 20,\n",
       "  'speed_mps': 5.555555555555555,\n",
       "  'cost': 9.722520000000001},\n",
       " 1528823332: {'origin': 1528823332,\n",
       "  'destination': 1322977378,\n",
       "  'distance': 45.501000000000005,\n",
       "  'speed': 30,\n",
       "  'speed_mps': 8.333333333333334,\n",
       "  'cost': 5.46012},\n",
       " 1529477429: {'origin': 1529477429,\n",
       "  'destination': 1256026682,\n",
       "  'distance': 44.482,\n",
       "  'speed': 30,\n",
       "  'speed_mps': 8.333333333333334,\n",
       "  'cost': 5.33784},\n",
       " 1529477449: {'origin': 1529477449,\n",
       "  'destination': 1533751804,\n",
       "  'distance': 43.988,\n",
       "  'speed': 30,\n",
       "  'speed_mps': 8.333333333333334,\n",
       "  'cost': 5.27856},\n",
       " 1531659796: {'origin': 1531659796,\n",
       "  'destination': 1256026659,\n",
       "  'distance': 74.96800000000002,\n",
       "  'speed': 30,\n",
       "  'speed_mps': 8.333333333333334,\n",
       "  'cost': 8.996160000000001},\n",
       " 1533751788: {'origin': 1533751788,\n",
       "  'destination': 1529477429,\n",
       "  'distance': 42.991,\n",
       "  'speed': 30,\n",
       "  'speed_mps': 8.333333333333334,\n",
       "  'cost': 5.158919999999999},\n",
       " 1533751804: {'origin': 1533751804,\n",
       "  'destination': 443511897,\n",
       "  'distance': 49.127,\n",
       "  'speed': 30,\n",
       "  'speed_mps': 8.333333333333334,\n",
       "  'cost': 5.89524},\n",
       " 1663102538: {'origin': 1663102538,\n",
       "  'destination': 1533751788,\n",
       "  'distance': 45.557,\n",
       "  'speed': 30,\n",
       "  'speed_mps': 8.333333333333334,\n",
       "  'cost': 5.4668399999999995},\n",
       " 1835328238: {'origin': 1835328238,\n",
       "  'destination': 958273825,\n",
       "  'distance': 76.615,\n",
       "  'speed': 30,\n",
       "  'speed_mps': 8.333333333333334,\n",
       "  'cost': 9.1938},\n",
       " 2855727902: {'origin': 2855727902,\n",
       "  'destination': 958273823,\n",
       "  'distance': 139.89499999999998,\n",
       "  'speed': 30,\n",
       "  'speed_mps': 8.333333333333334,\n",
       "  'cost': 16.787399999999998}}"
      ]
     },
     "execution_count": 27,
     "metadata": {},
     "output_type": "execute_result"
    }
   ],
   "source": [
    "dictionary.get('segments')"
   ]
  },
  {
   "cell_type": "code",
   "execution_count": null,
   "id": "089ba9d6-c5ae-4e16-81a8-de3256ddac26",
   "metadata": {},
   "outputs": [],
   "source": [
    "{for segment in dictionary.get('segments').get() if segment.get()}"
   ]
  },
  {
   "cell_type": "code",
   "execution_count": 22,
   "id": "c8d6d3a2-5ca5-4df6-a4e7-8335c44b9574",
   "metadata": {},
   "outputs": [
    {
     "data": {
      "text/plain": [
       "266161040"
      ]
     },
     "execution_count": 22,
     "metadata": {},
     "output_type": "execute_result"
    }
   ],
   "source": [
    "dictionary.get('segments').get(30203521).get('destination')"
   ]
  },
  {
   "cell_type": "code",
   "execution_count": 15,
   "id": "0e02d8f3-a7c3-49ac-9d39-a431cd43173d",
   "metadata": {},
   "outputs": [
    {
     "ename": "TypeError",
     "evalue": "'int' object is not subscriptable",
     "output_type": "error",
     "traceback": [
      "\u001b[1;31m---------------------------------------------------------------------------\u001b[0m",
      "\u001b[1;31mTypeError\u001b[0m                                 Traceback (most recent call last)",
      "Cell \u001b[1;32mIn[15], line 3\u001b[0m\n\u001b[0;32m      1\u001b[0m \u001b[38;5;66;03m# Para cada segmento, si el origen es una intersección válida, agregamos el destino en el atributo 'whereto'\u001b[39;00m\n\u001b[0;32m      2\u001b[0m \u001b[38;5;28;01mfor\u001b[39;00m segment \u001b[38;5;129;01min\u001b[39;00m dictionary\u001b[38;5;241m.\u001b[39mget(\u001b[38;5;124m'\u001b[39m\u001b[38;5;124msegments\u001b[39m\u001b[38;5;124m'\u001b[39m):\n\u001b[1;32m----> 3\u001b[0m     origin \u001b[38;5;241m=\u001b[39m \u001b[43msegment\u001b[49m\u001b[43m[\u001b[49m\u001b[38;5;124;43m'\u001b[39;49m\u001b[38;5;124;43morigin\u001b[39;49m\u001b[38;5;124;43m'\u001b[39;49m\u001b[43m]\u001b[49m\n\u001b[0;32m      4\u001b[0m     destination \u001b[38;5;241m=\u001b[39m segment[\u001b[38;5;124m'\u001b[39m\u001b[38;5;124mdestination\u001b[39m\u001b[38;5;124m'\u001b[39m]\n\u001b[0;32m      5\u001b[0m     \u001b[38;5;28;01mif\u001b[39;00m origin \u001b[38;5;129;01min\u001b[39;00m dictionary[\u001b[38;5;124m'\u001b[39m\u001b[38;5;124mintersections\u001b[39m\u001b[38;5;124m'\u001b[39m]:\n",
      "\u001b[1;31mTypeError\u001b[0m: 'int' object is not subscriptable"
     ]
    }
   ],
   "source": [
    "# Para cada segmento, si el origen es una intersección válida, agregamos el destino en el atributo 'whereto'\n",
    "for segment in dictionary.get('segments'):\n",
    "    origin = segment['origin']\n",
    "    destination = segment['destination']\n",
    "    if origin in dictionary['intersections']:\n",
    "        dictionary.get('intersections')[origin]['whereto'].add(destination)"
   ]
  }
 ],
 "metadata": {
  "kernelspec": {
   "display_name": "Python 3 (ipykernel)",
   "language": "python",
   "name": "python3"
  },
  "language_info": {
   "codemirror_mode": {
    "name": "ipython",
    "version": 3
   },
   "file_extension": ".py",
   "mimetype": "text/x-python",
   "name": "python",
   "nbconvert_exporter": "python",
   "pygments_lexer": "ipython3",
   "version": "3.12.6"
  }
 },
 "nbformat": 4,
 "nbformat_minor": 5
}
