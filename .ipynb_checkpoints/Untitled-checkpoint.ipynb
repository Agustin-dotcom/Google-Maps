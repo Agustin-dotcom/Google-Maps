{
 "cells": [
  {
   "cell_type": "code",
   "execution_count": 1,
   "id": "6f8b8e39-3bb1-4d96-9549-e30f2d99dc7f",
   "metadata": {},
   "outputs": [],
   "source": [
    "class Pepe:\n",
    "    pass"
   ]
  },
  {
   "cell_type": "code",
   "execution_count": 2,
   "id": "22ea37e1-5960-48eb-8c27-4adf7fc57d08",
   "metadata": {},
   "outputs": [
    {
     "data": {
      "text/plain": [
       "'Pepe'"
      ]
     },
     "execution_count": 2,
     "metadata": {},
     "output_type": "execute_result"
    }
   ],
   "source": [
    "Pepe.__name__"
   ]
  },
  {
   "cell_type": "code",
   "execution_count": 10,
   "id": "5e86ca02-3659-45ed-85ae-d1e3e93c1bbe",
   "metadata": {},
   "outputs": [
    {
     "data": {
      "text/plain": [
       "'C:\\\\googleMapsVS\\\\Google-Maps'"
      ]
     },
     "execution_count": 10,
     "metadata": {},
     "output_type": "execute_result"
    }
   ],
   "source": [
    "import os\n",
    "__file__ = \"resultados_programa.db\"\n",
    "BASE_DIR = os.path.dirname(os.path.abspath(__file__))\n",
    "BASE_DIR"
   ]
  },
  {
   "cell_type": "code",
   "execution_count": 9,
   "id": "aa48122c-4d4e-4fa5-a195-fc59a6d2b1ec",
   "metadata": {},
   "outputs": [
    {
     "data": {
      "text/plain": [
       "'C:\\\\googleMapsVS\\\\Google-Maps\\\\resultados_programa.db'"
      ]
     },
     "execution_count": 9,
     "metadata": {},
     "output_type": "execute_result"
    }
   ],
   "source": [
    "db_path = os.path.join(BASE_DIR, \"resultados_programa.db\")\n",
    "db_path"
   ]
  },
  {
   "cell_type": "code",
   "execution_count": null,
   "id": "99576a23-ae45-4c80-9182-747515d3ba74",
   "metadata": {},
   "outputs": [],
   "source": [
    "import sqlite3\n",
    "import pandas as pd\n",
    "import matplotlib.pyplot as plt\n",
    "import seaborn as sns\n",
    "\n",
    "# Conectarse a la base de datos\n",
    "#conn = sqlite3.connect('resultados_problemas.db')\n",
    "os.chdir('C:\\\\googleMapsVS\\\\Google-Maps')\n",
    "__file__ = \"resultados_programa.db\"\n",
    "BASE_DIR = os.path.dirname(os.path.abspath(__file__))\n",
    "db_path = os.path.join(BASE_DIR, \"resultados_programa.db\")\n",
    "with sqlite3.connect(db_path) as conn:\n",
    "    c = db.cursor()\n",
    "# Leer los datos en un DataFrame de pandas\n",
    "df = pd.read_sql_query(\"SELECT * FROM resultados\", conn)\n",
    "\n",
    "# Cerrar la conexión\n",
    "conn.close()\n",
    "\n",
    "# Graficar con Seaborn\n",
    "sns.set(style=\"whitegrid\")\n",
    "\n",
    "# Ejemplo: Comparar el número de nodos explorados por algoritmo\n",
    "plt.figure(figsize=(10,6))\n",
    "sns.barplot(x='algoritmo', y='nodos_explorados', data=df, palette=\"muted\")\n",
    "plt.title('Comparación de nodos explorados por algoritmo')\n",
    "plt.show()"
   ]
  }
 ],
 "metadata": {
  "kernelspec": {
   "display_name": "Python 3 (ipykernel)",
   "language": "python",
   "name": "python3"
  },
  "language_info": {
   "codemirror_mode": {
    "name": "ipython",
    "version": 3
   },
   "file_extension": ".py",
   "mimetype": "text/x-python",
   "name": "python",
   "nbconvert_exporter": "python",
   "pygments_lexer": "ipython3",
   "version": "3.12.6"
  }
 },
 "nbformat": 4,
 "nbformat_minor": 5
}
