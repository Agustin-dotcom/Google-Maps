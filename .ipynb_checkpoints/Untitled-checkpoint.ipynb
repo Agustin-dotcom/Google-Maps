{
 "cells": [
  {
   "cell_type": "code",
   "execution_count": 8,
   "id": "fc6dea55-fc14-4b86-8710-bbd37ca42314",
   "metadata": {},
   "outputs": [],
   "source": [
    "class Agus:\n",
    "    def __init__(self,age,height):\n",
    "        self.age = age\n",
    "        self.height = height\n",
    "    def __eq__(self,obj):\n",
    "        return self.age == obj.age and self.height == obj.height \n",
    "    def __hash__(self):\n",
    "        return hash(self.agus)"
   ]
  },
  {
   "cell_type": "code",
   "execution_count": 9,
   "id": "172c503a-ab36-44e0-85de-66fa2a2bd374",
   "metadata": {},
   "outputs": [],
   "source": [
    "agus = Agus(20)"
   ]
  },
  {
   "cell_type": "code",
   "execution_count": 10,
   "id": "2085daef-3490-48d2-8b7d-96fbd9d45cce",
   "metadata": {},
   "outputs": [
    {
     "data": {
      "text/plain": [
       "True"
      ]
     },
     "execution_count": 10,
     "metadata": {},
     "output_type": "execute_result"
    }
   ],
   "source": [
    "agus.__eq__(agus)\n"
   ]
  },
  {
   "cell_type": "code",
   "execution_count": 11,
   "id": "bf8d4303-8665-486b-ae88-829d697f14f0",
   "metadata": {},
   "outputs": [
    {
     "data": {
      "text/plain": [
       "20"
      ]
     },
     "execution_count": 11,
     "metadata": {},
     "output_type": "execute_result"
    }
   ],
   "source": [
    "agus.__hash__()"
   ]
  },
  {
   "cell_type": "code",
   "execution_count": null,
   "id": "b9b02cc7-a5c5-426c-8c63-550f91a4dd10",
   "metadata": {},
   "outputs": [],
   "source": []
  }
 ],
 "metadata": {
  "kernelspec": {
   "display_name": "Python 3 (ipykernel)",
   "language": "python",
   "name": "python3"
  },
  "language_info": {
   "codemirror_mode": {
    "name": "ipython",
    "version": 3
   },
   "file_extension": ".py",
   "mimetype": "text/x-python",
   "name": "python",
   "nbconvert_exporter": "python",
   "pygments_lexer": "ipython3",
   "version": "3.12.6"
  }
 },
 "nbformat": 4,
 "nbformat_minor": 5
}
