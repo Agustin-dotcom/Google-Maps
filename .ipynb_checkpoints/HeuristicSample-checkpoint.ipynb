{
 "cells": [
  {
   "cell_type": "code",
   "execution_count": null,
   "id": "0f54f616-e7ac-4bd4-a9d4-3297e95a8579",
   "metadata": {},
   "outputs": [],
   "source": [
    "#Quiero hacer lo de la heurística"
   ]
  },
  {
   "cell_type": "code",
   "execution_count": 1,
   "id": "27e6e477-44cb-4975-ba40-bfde9b99ae87",
   "metadata": {},
   "outputs": [
    {
     "data": {
      "text/plain": [
       "True"
      ]
     },
     "execution_count": 1,
     "metadata": {},
     "output_type": "execute_result"
    }
   ],
   "source": [
    "None is None"
   ]
  },
  {
   "cell_type": "code",
   "execution_count": null,
   "id": "1ebb4d9a-2a04-437e-8da0-254956ab86d5",
   "metadata": {},
   "outputs": [],
   "source": [
    "import math\n",
    "def computeGeoDistanceToTheGoal():\n",
    "    return math.sqrt((x2-x1)+(y2-y1))"
   ]
  },
  {
   "cell_type": "code",
   "execution_count": null,
   "id": "de51cc8f-f712-4b15-8662-ead15757fe80",
   "metadata": {},
   "outputs": [],
   "source": [
    "# María Julia mentioned something about constructors... I don't know where we can put all that"
   ]
  },
  {
   "cell_type": "code",
   "execution_count": null,
   "id": "2936c8b3-a21d-4438-9481-1755ebac46af",
   "metadata": {},
   "outputs": [],
   "source": [
    "# The priority queue is going to be a deque (list but from a library to work with python functions) of pairs such that we are going to have [(h,node)] "
   ]
  },
  {
   "cell_type": "code",
   "execution_count": null,
   "id": "139039e0-e08d-44ab-968b-e7e12c2fc488",
   "metadata": {},
   "outputs": [],
   "source": [
    "# The queue is going to be increasingly ordered taking into account h"
   ]
  },
  {
   "cell_type": "code",
   "execution_count": null,
   "id": "7ae39d57-fd08-47e1-acc9-ad0f14b4d5fa",
   "metadata": {},
   "outputs": [],
   "source": [
    "# Are we going to use the 'Explored' list (which in class María Julia said that is a HashSet)"
   ]
  },
  {
   "cell_type": "code",
   "execution_count": 2,
   "id": "97d89fdb-1b1c-4065-a2a7-478845bb67c1",
   "metadata": {},
   "outputs": [
    {
     "data": {
      "text/plain": [
       "True"
      ]
     },
     "execution_count": 2,
     "metadata": {},
     "output_type": "execute_result"
    }
   ],
   "source": [
    "1 in [0,1]"
   ]
  },
  {
   "cell_type": "code",
   "execution_count": 3,
   "id": "8bf34272-f319-48f8-a0df-e19602362546",
   "metadata": {},
   "outputs": [
    {
     "data": {
      "text/plain": [
       "True"
      ]
     },
     "execution_count": 3,
     "metadata": {},
     "output_type": "execute_result"
    }
   ],
   "source": [
    "1 in {0,1}"
   ]
  },
  {
   "cell_type": "code",
   "execution_count": null,
   "id": "0527255a-fcb4-45f7-894c-b8453ad2079f",
   "metadata": {},
   "outputs": [],
   "source": [
    "# She said it was a set but she was not sure if a hash set"
   ]
  },
  {
   "cell_type": "code",
   "execution_count": null,
   "id": "69a2515d-3a99-450f-9964-aa0b903adeee",
   "metadata": {},
   "outputs": [],
   "source": []
  }
 ],
 "metadata": {
  "kernelspec": {
   "display_name": "Python 3 (ipykernel)",
   "language": "python",
   "name": "python3"
  },
  "language_info": {
   "codemirror_mode": {
    "name": "ipython",
    "version": 3
   },
   "file_extension": ".py",
   "mimetype": "text/x-python",
   "name": "python",
   "nbconvert_exporter": "python",
   "pygments_lexer": "ipython3",
   "version": "3.12.6"
  }
 },
 "nbformat": 4,
 "nbformat_minor": 5
}
