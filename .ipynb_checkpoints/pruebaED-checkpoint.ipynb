{
 "cells": [
  {
   "cell_type": "code",
   "execution_count": 10,
   "id": "9aae5fee-62ec-4f97-b152-56ef722c32b3",
   "metadata": {},
   "outputs": [
    {
     "ename": "NameError",
     "evalue": "name 'self' is not defined",
     "output_type": "error",
     "traceback": [
      "\u001b[1;31m---------------------------------------------------------------------------\u001b[0m",
      "\u001b[1;31mNameError\u001b[0m                                 Traceback (most recent call last)",
      "Cell \u001b[1;32mIn[10], line 5\u001b[0m\n\u001b[0;32m      3\u001b[0m file_name \u001b[38;5;241m=\u001b[39m \u001b[38;5;124m'\u001b[39m\u001b[38;5;124mcalle_agustina_aroca_albacete_5000_0.json\u001b[39m\u001b[38;5;124m'\u001b[39m\n\u001b[0;32m      4\u001b[0m \u001b[38;5;28;01mwith\u001b[39;00m \u001b[38;5;28mopen\u001b[39m(file_name,\u001b[38;5;124m'\u001b[39m\u001b[38;5;124mr\u001b[39m\u001b[38;5;124m'\u001b[39m) \u001b[38;5;28;01mas\u001b[39;00m file:\n\u001b[1;32m----> 5\u001b[0m     \u001b[38;5;28;43mself\u001b[39;49m\u001b[38;5;241m.\u001b[39mdictionary \u001b[38;5;241m=\u001b[39m json\u001b[38;5;241m.\u001b[39mload(file)\n\u001b[0;32m      6\u001b[0m \u001b[38;5;66;03m# Conversión de velocidad de km/h a m/s y cálculo del coste\u001b[39;00m\n\u001b[0;32m      7\u001b[0m \u001b[38;5;28mself\u001b[39m\u001b[38;5;241m.\u001b[39mdictionary[\u001b[38;5;124m'\u001b[39m\u001b[38;5;124msegments\u001b[39m\u001b[38;5;124m'\u001b[39m] \u001b[38;5;241m=\u001b[39m {\n\u001b[0;32m      8\u001b[0m     d[\u001b[38;5;124m'\u001b[39m\u001b[38;5;124morigin\u001b[39m\u001b[38;5;124m'\u001b[39m]: {\u001b[38;5;241m*\u001b[39m\u001b[38;5;241m*\u001b[39md,  \u001b[38;5;66;03m# Mantener los valores originales\u001b[39;00m\n\u001b[0;32m      9\u001b[0m     \u001b[38;5;124m'\u001b[39m\u001b[38;5;124mspeed_mps\u001b[39m\u001b[38;5;124m'\u001b[39m: d[\u001b[38;5;124m'\u001b[39m\u001b[38;5;124mspeed\u001b[39m\u001b[38;5;124m'\u001b[39m] \u001b[38;5;241m*\u001b[39m (\u001b[38;5;241m1000\u001b[39m\u001b[38;5;241m/\u001b[39m\u001b[38;5;241m3600\u001b[39m),  \u001b[38;5;66;03m# Convertir velocidad a m/s (1000m/3600s)\u001b[39;00m\n\u001b[1;32m   (...)\u001b[0m\n\u001b[0;32m     12\u001b[0m     \u001b[38;5;28;01mfor\u001b[39;00m d \u001b[38;5;129;01min\u001b[39;00m \u001b[38;5;28mself\u001b[39m\u001b[38;5;241m.\u001b[39mdictionary[\u001b[38;5;124m'\u001b[39m\u001b[38;5;124msegments\u001b[39m\u001b[38;5;124m'\u001b[39m]\n\u001b[0;32m     13\u001b[0m }\n",
      "\u001b[1;31mNameError\u001b[0m: name 'self' is not defined"
     ]
    }
   ],
   "source": [
    "import json\n",
    "\n",
    "file_name = 'calle_agustina_aroca_albacete_5000_0.json'\n",
    "with open(file_name,'r') as file:\n",
    "    dictionary = json.load(file)\n",
    "# Conversión de velocidad de km/h a m/s y cálculo del coste\n",
    "dictionary['segments'] = {\n",
    "    d['origin']: {**d,  # Mantener los valores originales\n",
    "    'speed_mps': d['speed'] * (1000/3600),  # Convertir velocidad a m/s (1000m/3600s)\n",
    "    'cost': d['distance'] / (d['speed'] * (1000/3600))  # Calcular el coste como tiempo en segundos\n",
    "    }\n",
    "    for d in dictionary['segments']\n",
    "}\n",
    "# Convertir la lista de intersecciones a un diccionario donde la clave sea el 'identifier'\n",
    "dictionary['intersections'] = {intersection['identifier']: {**intersection, 'whereto': set()} for intersection in dictionary.get('intersections')}\n",
    "\n",
    "# Para cada segmento, si el origen es una intersección válida, agregamos el destino en el atributo 'whereto'\n",
    "for segment in dictionary.get('segments'):\n",
    "    origin = segment['origin']\n",
    "    destination = segment['destination']\n",
    "    if origin in dictionary['intersections']:\n",
    "        dictionary.get('intersections')[origin]['whereto'].add(destination)"
   ]
  }
 ],
 "metadata": {
  "kernelspec": {
   "display_name": "Python 3 (ipykernel)",
   "language": "python",
   "name": "python3"
  },
  "language_info": {
   "codemirror_mode": {
    "name": "ipython",
    "version": 3
   },
   "file_extension": ".py",
   "mimetype": "text/x-python",
   "name": "python",
   "nbconvert_exporter": "python",
   "pygments_lexer": "ipython3",
   "version": "3.12.6"
  }
 },
 "nbformat": 4,
 "nbformat_minor": 5
}
