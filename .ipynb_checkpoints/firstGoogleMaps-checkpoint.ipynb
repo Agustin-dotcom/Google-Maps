{
 "cells": [
  {
   "cell_type": "code",
   "execution_count": 22,
   "id": "81ca1c49-a1ba-471e-b54c-553fdf399f2e",
   "metadata": {},
   "outputs": [
    {
     "data": {
      "text/plain": [
       "dict"
      ]
     },
     "execution_count": 22,
     "metadata": {},
     "output_type": "execute_result"
    }
   ],
   "source": [
    "import json\n",
    "with open('calle_agustina_aroca_albacete_5000_0.json','r') as file:\n",
    "    new_dictionary = json.load(file)\n",
    "new_dictionary"
   ]
  },
  {
   "cell_type": "code",
   "execution_count": null,
   "id": "c1468ba8-5052-4149-b08b-fc94a9f1ba74",
   "metadata": {},
   "outputs": [],
   "source": []
  },
  {
   "cell_type": "code",
   "execution_count": 16,
   "id": "e83cfc82-c8a3-4d61-bcbe-680d6a88f864",
   "metadata": {},
   "outputs": [
    {
     "name": "stdout",
     "output_type": "stream",
     "text": [
      "0.0013911724090576172\n"
     ]
    }
   ],
   "source": [
    "import time\n",
    "start = time.time()\n",
    "thisIsWhatIWanted = [d for d in new_dictionary['intersections'] if d['identifier'] ==goalId ][0]\n",
    "x2 = thisIsWhatIWanted.get(\"longitude\")\n",
    "y2 = thisIsWhatIWanted.get(\"latitude\")\n",
    "end = time.time()\n",
    "print(end-start)"
   ]
  },
  {
   "cell_type": "code",
   "execution_count": 17,
   "id": "e91997c0-1c49-47d5-8fe2-fe50496a6c17",
   "metadata": {},
   "outputs": [
    {
     "name": "stdout",
     "output_type": "stream",
     "text": [
      "0.002183198928833008\n"
     ]
    }
   ],
   "source": [
    "import time\n",
    "start = time.time()\n",
    "goalId = new_dictionary['final']\n",
    "thisIsWhatIWanted = {d['identifier'] : d for d in new_dictionary['intersections']}\n",
    "x2 = thisIsWhatIWanted.get(goalId)[\"longitude\"] #thisIsWhatIWanted.get(\"longitude\")\n",
    "y2 = thisIsWhatIWanted.get(goalId)[\"latitude\"] #thisIsWhatIWanted.get(\"latitude\")\n",
    "end = time.time()\n",
    "print(end-start)"
   ]
  },
  {
   "cell_type": "code",
   "execution_count": 18,
   "id": "9f0266d1-64af-44bd-97a5-12357041fbf6",
   "metadata": {},
   "outputs": [
    {
     "name": "stdout",
     "output_type": "stream",
     "text": [
      "Búsqueda lineal: 0.12140321731567383 segundos\n"
     ]
    }
   ],
   "source": [
    "import random\n",
    "import time\n",
    "\n",
    "# Generar una lista de diccionarios con identificadores únicos\n",
    "new_dictionary = {\n",
    "    'intersections': [{'identifier': i, 'longitude': random.uniform(-180, 180), 'latitude': random.uniform(-90, 90)} for i in range(10**6)]\n",
    "}\n",
    "\n",
    "# Definir un goalId aleatorio dentro del rango de los identificadores\n",
    "goalId = random.randint(0, 10**6 - 1)\n",
    "\n",
    "# Versión 1: Búsqueda lineal\n",
    "start = time.time()\n",
    "thisIsWhatIWanted = [d for d in new_dictionary['intersections'] if d['identifier'] == goalId][0]\n",
    "x1 = thisIsWhatIWanted['longitude']\n",
    "y1 = thisIsWhatIWanted['latitude']\n",
    "end = time.time()\n",
    "print(f\"Búsqueda lineal: {end - start} segundos\")\n",
    "\n",
    "#\n"
   ]
  },
  {
   "cell_type": "code",
   "execution_count": 19,
   "id": "72219c32-de51-4a22-81a0-9d3a138094f6",
   "metadata": {},
   "outputs": [
    {
     "name": "stdout",
     "output_type": "stream",
     "text": [
      "Búsqueda lineal: 0.13303661346435547 segundos\n",
      "Acceso con diccionario: 0.14798593521118164 segundos\n"
     ]
    }
   ],
   "source": [
    "import random\n",
    "import time\n",
    "\n",
    "# Generar una lista de diccionarios con identificadores únicos\n",
    "new_dictionary = {\n",
    "    'intersections': [{'identifier': i, 'longitude': random.uniform(-180, 180), 'latitude': random.uniform(-90, 90)} for i in range(10**6)]\n",
    "}\n",
    "\n",
    "# Definir un goalId aleatorio dentro del rango de los identificadores\n",
    "goalId = random.randint(0, 10**6 - 1)\n",
    "\n",
    "# Versión 1: Búsqueda lineal\n",
    "start = time.time()\n",
    "thisIsWhatIWanted = [d for d in new_dictionary['intersections'] if d['identifier'] == goalId][0]\n",
    "x1 = thisIsWhatIWanted['longitude']\n",
    "y1 = thisIsWhatIWanted['latitude']\n",
    "end = time.time()\n",
    "print(f\"Búsqueda lineal: {end - start} segundos\")\n",
    "\n",
    "# Versión 2: Uso de diccionario para acceso O(1)\n",
    "start = time.time()\n",
    "thisIsWhatIWantedDict = {d['identifier']: d for d in new_dictionary['intersections']}\n",
    "x2 = thisIsWhatIWantedDict.get(goalId)['longitude']\n",
    "y2 = thisIsWhatIWantedDict.get(goalId)['latitude']\n",
    "end = time.time()\n",
    "print(f\"Acceso con diccionario: {end - start} segundos\")\n"
   ]
  },
  {
   "cell_type": "code",
   "execution_count": 20,
   "id": "354b6df2-035d-4ac4-9b38-158edcc7852b",
   "metadata": {},
   "outputs": [
    {
     "name": "stdout",
     "output_type": "stream",
     "text": [
      "Búsqueda lineal: 0.08559513092041016 segundos\n",
      "Acceso con diccionario (sin creación): 0.0 segundos\n"
     ]
    }
   ],
   "source": [
    "import random\n",
    "import time\n",
    "\n",
    "# Generar una lista de diccionarios con identificadores únicos\n",
    "new_dictionary = {\n",
    "    'intersections': [{'identifier': i, 'longitude': random.uniform(-180, 180), 'latitude': random.uniform(-90, 90)} for i in range(10**6)]\n",
    "}\n",
    "\n",
    "# Definir un goalId aleatorio dentro del rango de los identificadores\n",
    "goalId = random.randint(0, 10**6 - 1)\n",
    "\n",
    "# Medir solo el tiempo de acceso en la lista\n",
    "start = time.time()\n",
    "thisIsWhatIWanted = [d for d in new_dictionary['intersections'] if d['identifier'] == goalId][0]\n",
    "x1 = thisIsWhatIWanted['longitude']\n",
    "y1 = thisIsWhatIWanted['latitude']\n",
    "end = time.time()\n",
    "print(f\"Búsqueda lineal: {end - start} segundos\")\n",
    "\n",
    "# Crear el diccionario por fuera para no incluir ese tiempo en la medición de acceso\n",
    "thisIsWhatIWantedDict = {d['identifier']: d for d in new_dictionary['intersections']}\n",
    "\n",
    "# Medir solo el tiempo de acceso en el diccionario\n",
    "start = time.time()\n",
    "x2 = thisIsWhatIWantedDict.get(goalId)['longitude']\n",
    "y2 = thisIsWhatIWantedDict.get(goalId)['latitude']\n",
    "end = time.time()\n",
    "print(f\"Acceso con diccionario (sin creación): {end - start} segundos\")\n"
   ]
  },
  {
   "cell_type": "code",
   "execution_count": 5,
   "id": "477cd8b1-801e-4e3f-9ed0-3bdb9398abcd",
   "metadata": {},
   "outputs": [
    {
     "data": {
      "text/plain": [
       "-1.8593983"
      ]
     },
     "execution_count": 5,
     "metadata": {},
     "output_type": "execute_result"
    }
   ],
   "source": [
    "x2"
   ]
  },
  {
   "cell_type": "code",
   "execution_count": 2,
   "id": "d1a83f8b-93e6-4b65-bfc5-e3a7c56b7f12",
   "metadata": {},
   "outputs": [
    {
     "data": {
      "text/plain": [
       "'Paseo Simón Abril, Albacete'"
      ]
     },
     "execution_count": 2,
     "metadata": {},
     "output_type": "execute_result"
    }
   ],
   "source": [
    "new_dictionary['address']"
   ]
  },
  {
   "cell_type": "code",
   "execution_count": 3,
   "id": "2f8ac8f4-a2c1-4621-af50-4050937b2b1f",
   "metadata": {},
   "outputs": [
    {
     "data": {
      "text/plain": [
       "[{'origin': 434014599,\n",
       "  'destination': 1255547636,\n",
       "  'distance': 80.577,\n",
       "  'speed': 30},\n",
       " {'origin': 442909905,\n",
       "  'destination': 1663102538,\n",
       "  'distance': 114.41199999999999,\n",
       "  'speed': 30},\n",
       " {'origin': 442909905,\n",
       "  'destination': 672072228,\n",
       "  'distance': 144.466,\n",
       "  'speed': 30},\n",
       " {'origin': 443511897,\n",
       "  'destination': 434014599,\n",
       "  'distance': 93.96199999999999,\n",
       "  'speed': 30},\n",
       " {'origin': 443511897,\n",
       "  'destination': 1528823332,\n",
       "  'distance': 30.54,\n",
       "  'speed': 30},\n",
       " {'origin': 499274621,\n",
       "  'destination': 950684166,\n",
       "  'distance': 87.975,\n",
       "  'speed': 30},\n",
       " {'origin': 499274621,\n",
       "  'destination': 442909905,\n",
       "  'distance': 53.36900000000001,\n",
       "  'speed': 30},\n",
       " {'origin': 621983933,\n",
       "  'destination': 1256026663,\n",
       "  'distance': 51.993,\n",
       "  'speed': 30},\n",
       " {'origin': 621983933,\n",
       "  'destination': 1531659796,\n",
       "  'distance': 93.84,\n",
       "  'speed': 40},\n",
       " {'origin': 672072228,\n",
       "  'destination': 950684162,\n",
       "  'distance': 75.27000000000001,\n",
       "  'speed': 30},\n",
       " {'origin': 950684162,\n",
       "  'destination': 950688700,\n",
       "  'distance': 133.566,\n",
       "  'speed': 30},\n",
       " {'origin': 950684166,\n",
       "  'destination': 442909905,\n",
       "  'distance': 105.445,\n",
       "  'speed': 30},\n",
       " {'origin': 950684166,\n",
       "  'destination': 958251097,\n",
       "  'distance': 140.119,\n",
       "  'speed': 30},\n",
       " {'origin': 950688700,\n",
       "  'destination': 950684166,\n",
       "  'distance': 83.517,\n",
       "  'speed': 30},\n",
       " {'origin': 958251097,\n",
       "  'destination': 2855727902,\n",
       "  'distance': 50.144,\n",
       "  'speed': 30},\n",
       " {'origin': 958251097,\n",
       "  'destination': 950684166,\n",
       "  'distance': 140.119,\n",
       "  'speed': 30},\n",
       " {'origin': 958273823,\n",
       "  'destination': 950688700,\n",
       "  'distance': 101.229,\n",
       "  'speed': 30},\n",
       " {'origin': 958273823,\n",
       "  'destination': 958273826,\n",
       "  'distance': 138.214,\n",
       "  'speed': 30},\n",
       " {'origin': 958273825,\n",
       "  'destination': 1526053351,\n",
       "  'distance': 54.014,\n",
       "  'speed': 20},\n",
       " {'origin': 958273825,\n",
       "  'destination': 2855727902,\n",
       "  'distance': 14.917,\n",
       "  'speed': 30},\n",
       " {'origin': 958273825,\n",
       "  'destination': 1835328238,\n",
       "  'distance': 76.615,\n",
       "  'speed': 30},\n",
       " {'origin': 958273826,\n",
       "  'destination': 950684162,\n",
       "  'distance': 67.262,\n",
       "  'speed': 30},\n",
       " {'origin': 1255547636,\n",
       "  'destination': 1255547639,\n",
       "  'distance': 115.807,\n",
       "  'speed': 30},\n",
       " {'origin': 1255547636,\n",
       "  'destination': 1256026659,\n",
       "  'distance': 145.018,\n",
       "  'speed': 30},\n",
       " {'origin': 1255547639,\n",
       "  'destination': 499274621,\n",
       "  'distance': 41.803,\n",
       "  'speed': 30},\n",
       " {'origin': 1256026659,\n",
       "  'destination': 1256026663,\n",
       "  'distance': 108.05900000000001,\n",
       "  'speed': 30},\n",
       " {'origin': 1256026682,\n",
       "  'destination': 672072228,\n",
       "  'distance': 107.566,\n",
       "  'speed': 30},\n",
       " {'origin': 1526053351,\n",
       "  'destination': 958273825,\n",
       "  'distance': 54.014,\n",
       "  'speed': 20},\n",
       " {'origin': 1528823332,\n",
       "  'destination': 1322977378,\n",
       "  'distance': 45.501000000000005,\n",
       "  'speed': 30},\n",
       " {'origin': 1529477429,\n",
       "  'destination': 1529477449,\n",
       "  'distance': 82.999,\n",
       "  'speed': 20},\n",
       " {'origin': 1529477429,\n",
       "  'destination': 1256026682,\n",
       "  'distance': 44.482,\n",
       "  'speed': 30},\n",
       " {'origin': 1529477449,\n",
       "  'destination': 1533751804,\n",
       "  'distance': 43.988,\n",
       "  'speed': 30},\n",
       " {'origin': 1531659796,\n",
       "  'destination': 1255547639,\n",
       "  'distance': 163.42199999999997,\n",
       "  'speed': 30},\n",
       " {'origin': 1531659796,\n",
       "  'destination': 1256026659,\n",
       "  'distance': 74.96800000000002,\n",
       "  'speed': 30},\n",
       " {'origin': 1533751788,\n",
       "  'destination': 1529477429,\n",
       "  'distance': 42.991,\n",
       "  'speed': 30},\n",
       " {'origin': 1533751804,\n",
       "  'destination': 1533751788,\n",
       "  'distance': 84.541,\n",
       "  'speed': 20},\n",
       " {'origin': 1533751804,\n",
       "  'destination': 443511897,\n",
       "  'distance': 49.127,\n",
       "  'speed': 30},\n",
       " {'origin': 1663102538,\n",
       "  'destination': 443511897,\n",
       "  'distance': 85.32600000000001,\n",
       "  'speed': 30},\n",
       " {'origin': 1663102538,\n",
       "  'destination': 1255547636,\n",
       "  'distance': 99.95799999999998,\n",
       "  'speed': 30},\n",
       " {'origin': 1663102538,\n",
       "  'destination': 1533751788,\n",
       "  'distance': 45.557,\n",
       "  'speed': 30},\n",
       " {'origin': 1835328238,\n",
       "  'destination': 1835328235,\n",
       "  'distance': 83.701,\n",
       "  'speed': 30},\n",
       " {'origin': 1835328238,\n",
       "  'destination': 958273825,\n",
       "  'distance': 76.615,\n",
       "  'speed': 30},\n",
       " {'origin': 2855727902,\n",
       "  'destination': 958251097,\n",
       "  'distance': 50.144,\n",
       "  'speed': 30},\n",
       " {'origin': 2855727902,\n",
       "  'destination': 958273825,\n",
       "  'distance': 14.917,\n",
       "  'speed': 30},\n",
       " {'origin': 2855727902,\n",
       "  'destination': 958273823,\n",
       "  'distance': 139.89499999999998,\n",
       "  'speed': 30}]"
      ]
     },
     "execution_count": 3,
     "metadata": {},
     "output_type": "execute_result"
    }
   ],
   "source": [
    "new_dictionary['segments']"
   ]
  },
  {
   "cell_type": "code",
   "execution_count": 4,
   "id": "773e24bc-e0f0-416e-9242-54a18d2114f3",
   "metadata": {},
   "outputs": [
    {
     "data": {
      "text/plain": [
       "{'origin': 442909905,\n",
       " 'destination': 1663102538,\n",
       " 'distance': 114.41199999999999,\n",
       " 'speed': 30}"
      ]
     },
     "execution_count": 4,
     "metadata": {},
     "output_type": "execute_result"
    }
   ],
   "source": [
    "new_dictionary['segments'][1]"
   ]
  },
  {
   "cell_type": "code",
   "execution_count": 6,
   "id": "bacfe25e-64a6-4bbb-ac5b-968359d70fde",
   "metadata": {},
   "outputs": [
    {
     "data": {
      "text/plain": [
       "{'origin': 2855727902,\n",
       " 'destination': 958273823,\n",
       " 'distance': 139.89499999999998,\n",
       " 'speed': 30}"
      ]
     },
     "execution_count": 6,
     "metadata": {},
     "output_type": "execute_result"
    }
   ],
   "source": [
    "i = len(new_dictionary['segments'])\n",
    "new_dictionary['segments'][i-1]"
   ]
  },
  {
   "cell_type": "code",
   "execution_count": 13,
   "id": "0b26a404-2748-46d8-b8a2-c0990ac72c9b",
   "metadata": {},
   "outputs": [],
   "source": [
    "thisIsWhatIWanted = [(d['identifier'],d['longitude'],d['latitude']) for d in new_dictionary['intersections'] if d['identifier'] ==1322977378 ][0]"
   ]
  },
  {
   "cell_type": "code",
   "execution_count": 8,
   "id": "312bb095-627a-4397-b566-18ec819d4cf5",
   "metadata": {},
   "outputs": [
    {
     "data": {
      "text/plain": [
       "38.9913849"
      ]
     },
     "execution_count": 8,
     "metadata": {},
     "output_type": "execute_result"
    }
   ],
   "source": [
    "thisIsWhatIWanted.get(\"latitude\")"
   ]
  },
  {
   "cell_type": "code",
   "execution_count": 7,
   "id": "ef396436-af15-4838-8617-807d1785f968",
   "metadata": {},
   "outputs": [
    {
     "data": {
      "text/plain": [
       "-1.8593983"
      ]
     },
     "execution_count": 7,
     "metadata": {},
     "output_type": "execute_result"
    }
   ],
   "source": [
    "thisIsWhatIWanted.get(\"longitude\")"
   ]
  },
  {
   "cell_type": "code",
   "execution_count": 9,
   "id": "02c65e36-7eac-4e05-9f92-1cafd8320888",
   "metadata": {},
   "outputs": [
    {
     "data": {
      "text/plain": [
       "{'identifier': 1322977378, 'longitude': -1.8593983, 'latitude': 38.9913849}"
      ]
     },
     "execution_count": 9,
     "metadata": {},
     "output_type": "execute_result"
    }
   ],
   "source": [
    "thisIsWhatIWanted"
   ]
  },
  {
   "cell_type": "code",
   "execution_count": 11,
   "id": "563aae8d-6fff-44ef-a318-0008763efbd2",
   "metadata": {},
   "outputs": [
    {
     "data": {
      "text/plain": [
       "1322977378"
      ]
     },
     "execution_count": 11,
     "metadata": {},
     "output_type": "execute_result"
    }
   ],
   "source": [
    "thisIsWhatIWanted['identifier']"
   ]
  },
  {
   "cell_type": "code",
   "execution_count": 12,
   "id": "58d41b86-1ac3-43d8-9705-47dfe36b5717",
   "metadata": {},
   "outputs": [
    {
     "ename": "ValueError",
     "evalue": "too many values to unpack (expected 2)",
     "output_type": "error",
     "traceback": [
      "\u001b[1;31m---------------------------------------------------------------------------\u001b[0m",
      "\u001b[1;31mValueError\u001b[0m                                Traceback (most recent call last)",
      "Cell \u001b[1;32mIn[12], line 2\u001b[0m\n\u001b[0;32m      1\u001b[0m lista \u001b[38;5;241m=\u001b[39m []\n\u001b[1;32m----> 2\u001b[0m \u001b[38;5;28;01mfor\u001b[39;00m i,j \u001b[38;5;129;01min\u001b[39;00m [\u001b[38;5;241m1\u001b[39m,\u001b[38;5;241m2\u001b[39m,\u001b[38;5;241m3\u001b[39m],[\u001b[38;5;241m3\u001b[39m,\u001b[38;5;241m2\u001b[39m,\u001b[38;5;241m1\u001b[39m]:\n\u001b[0;32m      3\u001b[0m     lista\u001b[38;5;241m.\u001b[39mappend((i,j))\n\u001b[0;32m      4\u001b[0m lista\n",
      "\u001b[1;31mValueError\u001b[0m: too many values to unpack (expected 2)"
     ]
    }
   ],
   "source": [
    "lista = []\n",
    "for i,j in [1,2,3],[3,2,1]:\n",
    "    lista.append((i,j))\n",
    "lista"
   ]
  },
  {
   "cell_type": "code",
   "execution_count": 14,
   "id": "7e12048b-1f16-4df8-a3b0-737b33ca7fff",
   "metadata": {},
   "outputs": [
    {
     "data": {
      "text/plain": [
       "(1322977378, -1.8593983, 38.9913849)"
      ]
     },
     "execution_count": 14,
     "metadata": {},
     "output_type": "execute_result"
    }
   ],
   "source": [
    "thisIsWhatIWanted"
   ]
  },
  {
   "cell_type": "code",
   "execution_count": 15,
   "id": "4438ff80-ea4a-4511-b182-cd1d464063ff",
   "metadata": {},
   "outputs": [
    {
     "data": {
      "text/plain": [
       "{'address': 'Paseo Simón Abril, Albacete',\n",
       " 'distance': 250,\n",
       " 'initial': 621983933,\n",
       " 'final': 1322977378,\n",
       " 'intersections': [{'identifier': 434014599,\n",
       "   'longitude': -1.858993,\n",
       "   'latitude': 38.9902264},\n",
       "  {'identifier': 442909905, 'longitude': -1.8565634, 'latitude': 38.9903212},\n",
       "  {'identifier': 443511897, 'longitude': -1.8586486, 'latitude': 38.9910279},\n",
       "  {'identifier': 499274621, 'longitude': -1.856762, 'latitude': 38.9898668},\n",
       "  {'identifier': 621983933, 'longitude': -1.858676, 'latitude': 38.9876469},\n",
       "  {'identifier': 672072228, 'longitude': -1.8559743, 'latitude': 38.9915369},\n",
       "  {'identifier': 950684162, 'longitude': -1.8551602, 'latitude': 38.9912964},\n",
       "  {'identifier': 950684166, 'longitude': -1.8560355, 'latitude': 38.9894665},\n",
       "  {'identifier': 950688700, 'longitude': -1.8557015, 'latitude': 38.9901713},\n",
       "  {'identifier': 958251097, 'longitude': -1.855249, 'latitude': 38.9883646},\n",
       "  {'identifier': 958273823, 'longitude': -1.8546023, 'latitude': 38.9898569},\n",
       "  {'identifier': 958273825, 'longitude': -1.8546065, 'latitude': 38.9886691},\n",
       "  {'identifier': 958273826, 'longitude': -1.8544295, 'latitude': 38.9910926},\n",
       "  {'identifier': 1255547636, 'longitude': -1.858143, 'latitude': 38.9899287},\n",
       "  {'identifier': 1255547639, 'longitude': -1.8569159, 'latitude': 38.9895104},\n",
       "  {'identifier': 1256026659, 'longitude': -1.8587738, 'latitude': 38.9887202},\n",
       "  {'identifier': 1256026663, 'longitude': -1.8592362, 'latitude': 38.9878173},\n",
       "  {'identifier': 1256026682, 'longitude': -1.8571411, 'latitude': 38.9918736},\n",
       "  {'identifier': 1322977378, 'longitude': -1.8593983, 'latitude': 38.9913849},\n",
       "  {'identifier': 1526053351, 'longitude': -1.8543004, 'latitude': 38.9882456},\n",
       "  {'identifier': 1528823332, 'longitude': -1.8589572, 'latitude': 38.9911615},\n",
       "  {'identifier': 1529477429, 'longitude': -1.857342, 'latitude': 38.9915053},\n",
       "  {'identifier': 1529477449, 'longitude': -1.8582255, 'latitude': 38.9917979},\n",
       "  {'identifier': 1531659796, 'longitude': -1.8580573, 'latitude': 38.9883402},\n",
       "  {'identifier': 1533751788, 'longitude': -1.8575194, 'latitude': 38.9911441},\n",
       "  {'identifier': 1533751804, 'longitude': -1.8584239, 'latitude': 38.9914336},\n",
       "  {'identifier': 1663102538, 'longitude': -1.8577208, 'latitude': 38.9907656},\n",
       "  {'identifier': 1835328235, 'longitude': -1.8537324, 'latitude': 38.9882362},\n",
       "  {'identifier': 1835328238, 'longitude': -1.8538193, 'latitude': 38.9889859},\n",
       "  {'identifier': 2855727902, 'longitude': -1.8547579, 'latitude': 38.9886047}],\n",
       " 'segments': [{'origin': 434014599,\n",
       "   'destination': 1255547636,\n",
       "   'distance': 80.577,\n",
       "   'speed': 30},\n",
       "  {'origin': 442909905,\n",
       "   'destination': 1663102538,\n",
       "   'distance': 114.41199999999999,\n",
       "   'speed': 30},\n",
       "  {'origin': 442909905,\n",
       "   'destination': 672072228,\n",
       "   'distance': 144.466,\n",
       "   'speed': 30},\n",
       "  {'origin': 443511897,\n",
       "   'destination': 434014599,\n",
       "   'distance': 93.96199999999999,\n",
       "   'speed': 30},\n",
       "  {'origin': 443511897,\n",
       "   'destination': 1528823332,\n",
       "   'distance': 30.54,\n",
       "   'speed': 30},\n",
       "  {'origin': 499274621,\n",
       "   'destination': 950684166,\n",
       "   'distance': 87.975,\n",
       "   'speed': 30},\n",
       "  {'origin': 499274621,\n",
       "   'destination': 442909905,\n",
       "   'distance': 53.36900000000001,\n",
       "   'speed': 30},\n",
       "  {'origin': 621983933,\n",
       "   'destination': 1256026663,\n",
       "   'distance': 51.993,\n",
       "   'speed': 30},\n",
       "  {'origin': 621983933,\n",
       "   'destination': 1531659796,\n",
       "   'distance': 93.84,\n",
       "   'speed': 40},\n",
       "  {'origin': 672072228,\n",
       "   'destination': 950684162,\n",
       "   'distance': 75.27000000000001,\n",
       "   'speed': 30},\n",
       "  {'origin': 950684162,\n",
       "   'destination': 950688700,\n",
       "   'distance': 133.566,\n",
       "   'speed': 30},\n",
       "  {'origin': 950684166,\n",
       "   'destination': 442909905,\n",
       "   'distance': 105.445,\n",
       "   'speed': 30},\n",
       "  {'origin': 950684166,\n",
       "   'destination': 958251097,\n",
       "   'distance': 140.119,\n",
       "   'speed': 30},\n",
       "  {'origin': 950688700,\n",
       "   'destination': 950684166,\n",
       "   'distance': 83.517,\n",
       "   'speed': 30},\n",
       "  {'origin': 958251097,\n",
       "   'destination': 2855727902,\n",
       "   'distance': 50.144,\n",
       "   'speed': 30},\n",
       "  {'origin': 958251097,\n",
       "   'destination': 950684166,\n",
       "   'distance': 140.119,\n",
       "   'speed': 30},\n",
       "  {'origin': 958273823,\n",
       "   'destination': 950688700,\n",
       "   'distance': 101.229,\n",
       "   'speed': 30},\n",
       "  {'origin': 958273823,\n",
       "   'destination': 958273826,\n",
       "   'distance': 138.214,\n",
       "   'speed': 30},\n",
       "  {'origin': 958273825,\n",
       "   'destination': 1526053351,\n",
       "   'distance': 54.014,\n",
       "   'speed': 20},\n",
       "  {'origin': 958273825,\n",
       "   'destination': 2855727902,\n",
       "   'distance': 14.917,\n",
       "   'speed': 30},\n",
       "  {'origin': 958273825,\n",
       "   'destination': 1835328238,\n",
       "   'distance': 76.615,\n",
       "   'speed': 30},\n",
       "  {'origin': 958273826,\n",
       "   'destination': 950684162,\n",
       "   'distance': 67.262,\n",
       "   'speed': 30},\n",
       "  {'origin': 1255547636,\n",
       "   'destination': 1255547639,\n",
       "   'distance': 115.807,\n",
       "   'speed': 30},\n",
       "  {'origin': 1255547636,\n",
       "   'destination': 1256026659,\n",
       "   'distance': 145.018,\n",
       "   'speed': 30},\n",
       "  {'origin': 1255547639,\n",
       "   'destination': 499274621,\n",
       "   'distance': 41.803,\n",
       "   'speed': 30},\n",
       "  {'origin': 1256026659,\n",
       "   'destination': 1256026663,\n",
       "   'distance': 108.05900000000001,\n",
       "   'speed': 30},\n",
       "  {'origin': 1256026682,\n",
       "   'destination': 672072228,\n",
       "   'distance': 107.566,\n",
       "   'speed': 30},\n",
       "  {'origin': 1526053351,\n",
       "   'destination': 958273825,\n",
       "   'distance': 54.014,\n",
       "   'speed': 20},\n",
       "  {'origin': 1528823332,\n",
       "   'destination': 1322977378,\n",
       "   'distance': 45.501000000000005,\n",
       "   'speed': 30},\n",
       "  {'origin': 1529477429,\n",
       "   'destination': 1529477449,\n",
       "   'distance': 82.999,\n",
       "   'speed': 20},\n",
       "  {'origin': 1529477429,\n",
       "   'destination': 1256026682,\n",
       "   'distance': 44.482,\n",
       "   'speed': 30},\n",
       "  {'origin': 1529477449,\n",
       "   'destination': 1533751804,\n",
       "   'distance': 43.988,\n",
       "   'speed': 30},\n",
       "  {'origin': 1531659796,\n",
       "   'destination': 1255547639,\n",
       "   'distance': 163.42199999999997,\n",
       "   'speed': 30},\n",
       "  {'origin': 1531659796,\n",
       "   'destination': 1256026659,\n",
       "   'distance': 74.96800000000002,\n",
       "   'speed': 30},\n",
       "  {'origin': 1533751788,\n",
       "   'destination': 1529477429,\n",
       "   'distance': 42.991,\n",
       "   'speed': 30},\n",
       "  {'origin': 1533751804,\n",
       "   'destination': 1533751788,\n",
       "   'distance': 84.541,\n",
       "   'speed': 20},\n",
       "  {'origin': 1533751804,\n",
       "   'destination': 443511897,\n",
       "   'distance': 49.127,\n",
       "   'speed': 30},\n",
       "  {'origin': 1663102538,\n",
       "   'destination': 443511897,\n",
       "   'distance': 85.32600000000001,\n",
       "   'speed': 30},\n",
       "  {'origin': 1663102538,\n",
       "   'destination': 1255547636,\n",
       "   'distance': 99.95799999999998,\n",
       "   'speed': 30},\n",
       "  {'origin': 1663102538,\n",
       "   'destination': 1533751788,\n",
       "   'distance': 45.557,\n",
       "   'speed': 30},\n",
       "  {'origin': 1835328238,\n",
       "   'destination': 1835328235,\n",
       "   'distance': 83.701,\n",
       "   'speed': 30},\n",
       "  {'origin': 1835328238,\n",
       "   'destination': 958273825,\n",
       "   'distance': 76.615,\n",
       "   'speed': 30},\n",
       "  {'origin': 2855727902,\n",
       "   'destination': 958251097,\n",
       "   'distance': 50.144,\n",
       "   'speed': 30},\n",
       "  {'origin': 2855727902,\n",
       "   'destination': 958273825,\n",
       "   'distance': 14.917,\n",
       "   'speed': 30},\n",
       "  {'origin': 2855727902,\n",
       "   'destination': 958273823,\n",
       "   'distance': 139.89499999999998,\n",
       "   'speed': 30}]}"
      ]
     },
     "execution_count": 15,
     "metadata": {},
     "output_type": "execute_result"
    }
   ],
   "source": [
    "import json\n",
    "with open('paseo_simón_abril_albacete_250_1.json','r') as file:\n",
    "    new_dictionary = json.load(file)\n",
    "new_dictionary"
   ]
  },
  {
   "cell_type": "code",
   "execution_count": 16,
   "id": "3c4b0338-4f08-47b9-a348-3f22b7bcb834",
   "metadata": {},
   "outputs": [],
   "source": [
    "for i in new_dictionary.get('intersections'):\n",
    "    i['whereto'] = [{\"id\":j.get('destination'),\"cost\":j.get('distance')/j.get('speed')} for j in new_dictionary.get('segments') if j.get('origin') == i.get('identifier')]\n",
    "new_dictionary['intersections'] = sorted(new_dictionary['intersections'], key = lambda x : x['identifier'])"
   ]
  },
  {
   "cell_type": "code",
   "execution_count": 20,
   "id": "775f4703-cbe9-4340-bf59-de79d7253802",
   "metadata": {},
   "outputs": [
    {
     "data": {
      "text/plain": [
       "-1.858676"
      ]
     },
     "execution_count": 20,
     "metadata": {},
     "output_type": "execute_result"
    }
   ],
   "source": [
    "[d['longitude'] for d in new_dictionary['intersections'] if d['identifier'] == 621983933][0] # we get a dictionary of dictionaries\n"
   ]
  },
  {
   "cell_type": "code",
   "execution_count": 19,
   "id": "a685f909-bb65-4e7d-bcac-c08f4de7141e",
   "metadata": {},
   "outputs": [
    {
     "data": {
      "text/plain": [
       "[(1, 2)]"
      ]
     },
     "execution_count": 19,
     "metadata": {},
     "output_type": "execute_result"
    }
   ],
   "source": [
    "lista = []\n",
    "lista.append((1,2))\n",
    "lista"
   ]
  }
 ],
 "metadata": {
  "kernelspec": {
   "display_name": "Python 3 (ipykernel)",
   "language": "python",
   "name": "python3"
  },
  "language_info": {
   "codemirror_mode": {
    "name": "ipython",
    "version": 3
   },
   "file_extension": ".py",
   "mimetype": "text/x-python",
   "name": "python",
   "nbconvert_exporter": "python",
   "pygments_lexer": "ipython3",
   "version": "3.12.6"
  }
 },
 "nbformat": 4,
 "nbformat_minor": 5
}
