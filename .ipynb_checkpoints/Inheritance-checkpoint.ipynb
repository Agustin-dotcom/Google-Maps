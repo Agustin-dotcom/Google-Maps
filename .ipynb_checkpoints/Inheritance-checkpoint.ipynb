{
 "cells": [
  {
   "cell_type": "code",
   "execution_count": 29,
   "id": "f40c62ca-2dc5-4742-89d0-715adc7913be",
   "metadata": {},
   "outputs": [],
   "source": [
    "class Dad:\n",
    "    def __init__(self,age,problem):\n",
    "        self.age = age\n",
    "        self.problem = problem\n",
    "    def sum(self):\n",
    "        return 2\n",
    "class Child(Dad):\n",
    "    def sum(self):\n",
    "        return super().sum() +2\n"
   ]
  },
  {
   "cell_type": "code",
   "execution_count": 30,
   "id": "36ac138b-0268-4a3e-ba33-6a6af889d08e",
   "metadata": {},
   "outputs": [],
   "source": [
    "agus = Child(40)"
   ]
  },
  {
   "cell_type": "code",
   "execution_count": 25,
   "id": "daa27a5e-0b4b-4f1f-9666-65f65cc5a12d",
   "metadata": {},
   "outputs": [
    {
     "data": {
      "text/plain": [
       "40"
      ]
     },
     "execution_count": 25,
     "metadata": {},
     "output_type": "execute_result"
    }
   ],
   "source": [
    "agus.age"
   ]
  },
  {
   "cell_type": "code",
   "execution_count": 26,
   "id": "5b9ee4aa-b4b7-4c12-98b7-a6b9f61327c4",
   "metadata": {},
   "outputs": [
    {
     "data": {
      "text/plain": [
       "4"
      ]
     },
     "execution_count": 26,
     "metadata": {},
     "output_type": "execute_result"
    }
   ],
   "source": [
    "agus.sum()"
   ]
  },
  {
   "cell_type": "code",
   "execution_count": 31,
   "id": "4367117a-15f6-420d-b97e-1466e98d47d4",
   "metadata": {},
   "outputs": [
    {
     "data": {
      "text/plain": [
       "2"
      ]
     },
     "execution_count": 31,
     "metadata": {},
     "output_type": "execute_result"
    }
   ],
   "source": [
    "agus.problem"
   ]
  }
 ],
 "metadata": {
  "kernelspec": {
   "display_name": "Python 3 (ipykernel)",
   "language": "python",
   "name": "python3"
  },
  "language_info": {
   "codemirror_mode": {
    "name": "ipython",
    "version": 3
   },
   "file_extension": ".py",
   "mimetype": "text/x-python",
   "name": "python",
   "nbconvert_exporter": "python",
   "pygments_lexer": "ipython3",
   "version": "3.12.6"
  }
 },
 "nbformat": 4,
 "nbformat_minor": 5
}
