{
 "cells": [
  {
   "cell_type": "code",
   "execution_count": 6,
   "id": "b3ec8070-ae95-42fc-9e0c-76d763d5c5b4",
   "metadata": {},
   "outputs": [],
   "source": [
    "class Incremento:\n",
    "    def __init__(self,x):\n",
    "        self.x = x\n",
    "    def incremento(self,):\n",
    "        self.x += 1\n",
    "        return self.x+1"
   ]
  },
  {
   "cell_type": "code",
   "execution_count": 7,
   "id": "84e714e7-bcd8-4078-a241-97697ea8a472",
   "metadata": {},
   "outputs": [],
   "source": [
    "agus = Incremento(0)"
   ]
  },
  {
   "cell_type": "code",
   "execution_count": 8,
   "id": "ac3453c8-2c35-440f-a4cb-db684c00cbe1",
   "metadata": {},
   "outputs": [
    {
     "data": {
      "text/plain": [
       "0"
      ]
     },
     "execution_count": 8,
     "metadata": {},
     "output_type": "execute_result"
    }
   ],
   "source": [
    "agus.x"
   ]
  },
  {
   "cell_type": "code",
   "execution_count": 9,
   "id": "5c3ba294-f903-4b6a-b545-acbacf87ae70",
   "metadata": {},
   "outputs": [
    {
     "data": {
      "text/plain": [
       "1"
      ]
     },
     "execution_count": 9,
     "metadata": {},
     "output_type": "execute_result"
    }
   ],
   "source": [
    "agus.incremento()"
   ]
  }
 ],
 "metadata": {
  "kernelspec": {
   "display_name": "Python 3 (ipykernel)",
   "language": "python",
   "name": "python3"
  },
  "language_info": {
   "codemirror_mode": {
    "name": "ipython",
    "version": 3
   },
   "file_extension": ".py",
   "mimetype": "text/x-python",
   "name": "python",
   "nbconvert_exporter": "python",
   "pygments_lexer": "ipython3",
   "version": "3.12.6"
  }
 },
 "nbformat": 4,
 "nbformat_minor": 5
}
